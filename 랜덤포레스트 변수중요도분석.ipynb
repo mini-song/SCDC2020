{
 "cells": [
  {
   "cell_type": "code",
   "execution_count": 1,
   "metadata": {
    "ExecuteTime": {
     "end_time": "2021-01-03T15:40:15.581723Z",
     "start_time": "2021-01-03T15:40:09.664519Z"
    }
   },
   "outputs": [
    {
     "name": "stdout",
     "output_type": "stream",
     "text": [
      "         cst_id_di   VAR002  VAR003   VAR004   VAR005   VAR006  VAR007  \\\n",
      "0      90000000089 -0.06610  0.5280 -0.13607  0.10945  0.06557       0   \n",
      "1      90000000176 -0.09537  0.1347 -0.13541  0.17331 -0.19657       0   \n",
      "2      90000000210 -0.01048  0.8360  0.37797 -0.10970  0.52032       1   \n",
      "3      90000000212  0.05194  0.7505  0.04611 -0.16512  0.07413       0   \n",
      "4      90000000213 -0.08536  0.3767 -0.12288  0.10023 -0.43414       0   \n",
      "...            ...      ...     ...      ...      ...      ...     ...   \n",
      "10119  90000460112 -0.06606  0.6615 -0.09743 -0.03240  0.10111       0   \n",
      "10120  90000460117 -0.03031  0.0143  0.07041 -0.02519  0.58013       0   \n",
      "10121  90000460233 -0.05351  0.3121  0.36925 -0.10039  0.51159       0   \n",
      "10122  90000460310 -0.00562  0.2286  0.04581 -0.05390  0.20481       0   \n",
      "10123  90000460313 -0.06814  0.6968 -0.04318  0.11340 -0.08842       0   \n",
      "\n",
      "       VAR008   VAR009  VAR010  ...   VAR219   VAR220   VAR221   VAR222  \\\n",
      "0      0.7702 -0.18965  0.1981  ...  0.19113  0.05449  0.09471  0.27091   \n",
      "1      0.0616 -0.23104  0.4940  ...  0.19437  0.06538  0.16309  0.30207   \n",
      "2      0.3257  0.32632  0.7343  ... -0.52084 -0.18568 -0.09755 -0.56565   \n",
      "3      0.5322  0.26845  0.7327  ... -0.01934 -0.05172 -0.13245 -0.16357   \n",
      "4      0.5468 -0.25575  0.9644  ...  0.23122  0.07913  0.09206  0.46971   \n",
      "...       ...      ...     ...  ...      ...      ...      ...      ...   \n",
      "10119  0.9722 -0.02041  0.6966  ...  0.33881 -0.01692 -0.01823  0.21720   \n",
      "10120  0.0330  0.06676  0.8251  ... -0.19384 -0.02383 -0.02448 -0.05019   \n",
      "10121  0.2582  0.35016  0.4638  ... -0.45312 -0.17163 -0.08674 -0.40260   \n",
      "10122  0.5957  0.11319  0.2527  ...  0.01754 -0.01479 -0.03898 -0.01363   \n",
      "10123  0.1151 -0.02036  0.8465  ...  0.08257  0.00120  0.08881  0.01272   \n",
      "\n",
      "        VAR223   VAR224   VAR225   VAR226   VAR227  MRC_ID_DI  \n",
      "0      0.01931  0.02938  0.17105  0.12537  0.22197          0  \n",
      "1      0.06053 -0.01107  0.12413  0.29702 -0.31717          8  \n",
      "2     -0.17840 -0.06314 -0.17111 -0.32239  0.33962          0  \n",
      "3     -0.05697  0.01587 -0.04022  0.31213 -0.00559          5  \n",
      "4      0.07964 -0.04698  0.03581  0.22588 -0.34868          6  \n",
      "...        ...      ...      ...      ...      ...        ...  \n",
      "10119 -0.08346 -0.07835  0.02321  0.32967 -0.25995          7  \n",
      "10120 -0.02869 -0.05401  0.01670 -0.15880  0.48301          0  \n",
      "10121 -0.15903 -0.10292 -0.11742 -0.31895  0.40357          0  \n",
      "10122  0.06974 -0.03815 -0.04371  0.11433 -0.01931          0  \n",
      "10123 -0.01391 -0.05940  0.44214  0.22888 -0.09918          0  \n",
      "\n",
      "[10124 rows x 228 columns]\n"
     ]
    }
   ],
   "source": [
    "import pandas as pd\n",
    "import numpy as np\n",
    "from sklearn.metrics import accuracy_score\n",
    "from sklearn.model_selection import train_test_split\n",
    "import os\n",
    "from sklearn import tree\n",
    "import matplotlib.pyplot as plt\n",
    "import platform\n",
    "from matplotlib import font_manager, rc\n",
    "os.environ[\"PATH\"] += os.pathsep + 'C:/Program Files (x86)/Graphviz2.38/bin/'\n",
    "df=pd.read_csv('./data.csv',encoding='cp949')\n",
    "df=df.replace('low',0)\n",
    "df=df.replace('mid',1)\n",
    "df=df.replace('high',2)\n",
    "df.to_csv('./정제된데이터.csv', encoding='cp949',index=False)\n",
    "df=df.replace('A',0) #범주형 자료 해석 x ->  sklearn.preprocessing.OneHotEncoder 쓰거나 dummy encoding을 활용\n",
    "df=df.replace('B',1)\n",
    "df=df.replace('C',2)\n",
    "df=df.replace('D',3)\n",
    "df=df.replace('E',4)\n",
    "df=df.replace('F',5)\n",
    "df=df.replace('G',6)\n",
    "df=df.replace('H',7)\n",
    "df=df.replace('디저트',0)\n",
    "df=df.replace('호텔/숙박',1)\n",
    "df=df.replace('항공/여행사',2)\n",
    "df=df.replace('취미',3)\n",
    "df=df.replace('할인점',4)\n",
    "df=df.replace('뷰티',5)\n",
    "df=df.replace('면세점',6)\n",
    "df=df.replace('종합몰',7)\n",
    "df=df.replace('오픈마켓/소셜',8)\n",
    "df=df.replace('전문몰',9)\n",
    "print(df)"
   ]
  },
  {
   "cell_type": "code",
   "execution_count": 2,
   "metadata": {
    "ExecuteTime": {
     "end_time": "2021-01-03T15:40:23.326973Z",
     "start_time": "2021-01-03T15:40:15.586679Z"
    },
    "lines_to_next_cell": 0
   },
   "outputs": [
    {
     "name": "stdout",
     "output_type": "stream",
     "text": [
      "80.0 %\n",
      "특성 중요도 : \n",
      "[0.         0.         0.         0.00915515 0.         0.\n",
      " 0.         0.         0.         0.00797374 0.         0.\n",
      " 0.         0.         0.         0.         0.         0.\n",
      " 0.         0.         0.         0.         0.         0.04328534\n",
      " 0.         0.         0.01246327 0.         0.         0.\n",
      " 0.00812277 0.         0.         0.         0.         0.\n",
      " 0.         0.         0.         0.01888734 0.         0.\n",
      " 0.         0.         0.         0.         0.         0.\n",
      " 0.         0.04185979 0.         0.         0.         0.\n",
      " 0.         0.         0.01200602 0.         0.         0.\n",
      " 0.         0.         0.         0.         0.         0.\n",
      " 0.         0.         0.         0.         0.         0.\n",
      " 0.00993191 0.         0.         0.         0.         0.\n",
      " 0.         0.         0.         0.         0.         0.\n",
      " 0.         0.         0.         0.         0.         0.\n",
      " 0.         0.         0.         0.         0.         0.\n",
      " 0.         0.         0.         0.         0.         0.\n",
      " 0.         0.50097726 0.         0.         0.         0.\n",
      " 0.         0.         0.         0.         0.         0.\n",
      " 0.         0.         0.00316373 0.         0.         0.\n",
      " 0.         0.         0.         0.         0.         0.\n",
      " 0.         0.         0.         0.         0.         0.\n",
      " 0.01585862 0.         0.         0.         0.         0.09828873\n",
      " 0.         0.         0.         0.         0.         0.\n",
      " 0.         0.         0.         0.         0.         0.00768461\n",
      " 0.         0.         0.         0.         0.         0.\n",
      " 0.         0.         0.         0.         0.         0.\n",
      " 0.         0.         0.         0.         0.         0.\n",
      " 0.         0.         0.         0.         0.         0.\n",
      " 0.         0.         0.         0.         0.         0.\n",
      " 0.05330213 0.         0.         0.         0.         0.00519285\n",
      " 0.01224321 0.         0.         0.         0.         0.00291363\n",
      " 0.         0.         0.         0.         0.         0.\n",
      " 0.         0.         0.01843776 0.         0.         0.\n",
      " 0.         0.         0.         0.         0.         0.01477407\n",
      " 0.         0.         0.         0.         0.         0.\n",
      " 0.02853174 0.         0.         0.         0.         0.\n",
      " 0.         0.         0.         0.07494633 0.        ]\n",
      "[0.         0.         0.         0.00915515 0.         0.\n",
      " 0.         0.         0.         0.00797374 0.         0.\n",
      " 0.         0.         0.         0.         0.         0.\n",
      " 0.         0.         0.         0.         0.         0.04328534\n",
      " 0.         0.         0.01246327 0.         0.         0.\n",
      " 0.00812277 0.         0.         0.         0.         0.\n",
      " 0.         0.         0.         0.01888734 0.         0.\n",
      " 0.         0.         0.         0.         0.         0.\n",
      " 0.         0.04185979 0.         0.         0.         0.\n",
      " 0.         0.         0.01200602 0.         0.         0.\n",
      " 0.         0.         0.         0.         0.         0.\n",
      " 0.         0.         0.         0.         0.         0.\n",
      " 0.00993191 0.         0.         0.         0.         0.\n",
      " 0.         0.         0.         0.         0.         0.\n",
      " 0.         0.         0.         0.         0.         0.\n",
      " 0.         0.         0.         0.         0.         0.\n",
      " 0.         0.         0.         0.         0.         0.\n",
      " 0.         0.50097726 0.         0.         0.         0.\n",
      " 0.         0.         0.         0.         0.         0.\n",
      " 0.         0.         0.00316373 0.         0.         0.\n",
      " 0.         0.         0.         0.         0.         0.\n",
      " 0.         0.         0.         0.         0.         0.\n",
      " 0.01585862 0.         0.         0.         0.         0.09828873\n",
      " 0.         0.         0.         0.         0.         0.\n",
      " 0.         0.         0.         0.         0.         0.00768461\n",
      " 0.         0.         0.         0.         0.         0.\n",
      " 0.         0.         0.         0.         0.         0.\n",
      " 0.         0.         0.         0.         0.         0.\n",
      " 0.         0.         0.         0.         0.         0.\n",
      " 0.         0.         0.         0.         0.         0.\n",
      " 0.05330213 0.         0.         0.         0.         0.00519285\n",
      " 0.01224321 0.         0.         0.         0.         0.00291363\n",
      " 0.         0.         0.         0.         0.         0.\n",
      " 0.         0.         0.01843776 0.         0.         0.\n",
      " 0.         0.         0.         0.         0.         0.01477407\n",
      " 0.         0.         0.         0.         0.         0.\n",
      " 0.02853174 0.         0.         0.         0.         0.\n",
      " 0.         0.         0.         0.07494633 0.        ]\n"
     ]
    }
   ],
   "source": [
    "\n",
    "\n",
    "Y=df['MRC_ID_DI']\n",
    "del df['MRC_ID_DI']\n",
    "X =df\n",
    "\n",
    "clf = tree.DecisionTreeClassifier(criterion='entropy',max_depth=5)\n",
    "clf = clf.fit(X, Y)\n",
    "X_train, X_test, Y_train, Y_test = train_test_split(X, Y, test_size=0.3)\n",
    "clf.fit(X_train,Y_train)\n",
    "print(round(clf.score(X_test,Y_test),2)*100,\"%\")\n",
    "print(\"특성 중요도 : \\n{}\".format(clf.feature_importances_))\n",
    "print(clf.feature_importances_)\n",
    "list(df.columns.array)\n",
    "\n",
    "\n",
    "imp = clf.feature_importances_\n",
    "if platform.system() == 'Windows':\n",
    "    font_name= font_manager.FontProperties(fname=\"C:/Windows/Fonts/malgun.ttf\").get_name()\n",
    "    rc('font', family=font_name)\n",
    "else:\n",
    "    rc('font', family='AppleGothic')\n"
   ]
  },
  {
   "cell_type": "code",
   "execution_count": 3,
   "metadata": {
    "ExecuteTime": {
     "end_time": "2021-01-03T15:40:23.931355Z",
     "start_time": "2021-01-03T15:40:23.334957Z"
    }
   },
   "outputs": [
    {
     "data": {
      "image/png": "[encoded data removed]",
      "text/plain": [
       "<Figure size 432x288 with 1 Axes>"
      ]
     },
     "metadata": {
      "needs_background": "light"
     },
     "output_type": "display_data"
    }
   ],
   "source": [
    "plt.barh(range(len(imp)), imp) \n",
    "#plt.yticks(range(len(imp)), list(df.columns.array)) \n",
    "plt.show()"
   ]
  },
  {
   "cell_type": "code",
   "execution_count": 4,
   "metadata": {
    "ExecuteTime": {
     "end_time": "2021-01-03T15:40:23.940331Z",
     "start_time": "2021-01-03T15:40:23.933351Z"
    }
   },
   "outputs": [],
   "source": [
    "a=imp.tolist()"
   ]
  },
  {
   "cell_type": "code",
   "execution_count": 6,
   "metadata": {
    "ExecuteTime": {
     "end_time": "2021-01-03T15:41:38.832026Z",
     "start_time": "2021-01-03T15:41:38.825074Z"
    }
   },
   "outputs": [
    {
     "name": "stdout",
     "output_type": "stream",
     "text": [
      "VAR104 0.5009772637494204\n",
      "VAR138 0.09828873147311046\n",
      "VAR181 0.05330212778462214\n",
      "VAR226 0.07494632714082188\n"
     ]
    }
   ],
   "source": [
    "for i in range(0,len(a)):\n",
    "    if a[i]>0.05:\n",
    "        print('VAR' + str(i+1) , a[i])"
   ]
  },
  {
   "cell_type": "code",
   "execution_count": null,
   "metadata": {},
   "outputs": [],
   "source": []
  }
 ],
 "metadata": {
  "hide_input": false,
  "jupytext": {
   "cell_metadata_filter": "-all",
   "encoding": "# -*- coding: utf-8 -*-",
   "formats": "py:light,ipynb",
   "main_language": "python",
   "notebook_metadata_filter": "-all"
  },
  "kernelspec": {
   "display_name": "Python 3",
   "language": "python",
   "name": "python3"
  },
  "language_info": {
   "codemirror_mode": {
    "name": "ipython",
    "version": 3
   },
   "file_extension": ".py",
   "mimetype": "text/x-python",
   "name": "python",
   "nbconvert_exporter": "python",
   "pygments_lexer": "ipython3",
   "version": "3.7.6"
  }
 },
 "nbformat": 4,
 "nbformat_minor": 4
}
