{
 "cells": [
  {
   "cell_type": "code",
   "execution_count": 1,
   "metadata": {
    "ExecuteTime": {
     "end_time": "2021-01-03T14:57:36.995081Z",
     "start_time": "2021-01-03T14:57:32.615266Z"
    }
   },
   "outputs": [],
   "source": [
    "import numpy as np\n",
    "import pandas as pd\n",
    "import matplotlib.pyplot as plt\n",
    "from sklearn import datasets\n",
    "import statsmodels.api as sm\n",
    "import seaborn as sns\n",
    "from sklearn.cluster import KMeans\n",
    "from sklearn.linear_model import LogisticRegression\n",
    "from sklearn.model_selection import train_test_split\n",
    "from sklearn import metrics\n",
    "from sklearn.metrics import confusion_matrix\n",
    "from sklearn.metrics import accuracy_score, roc_auc_score, roc_curve\n",
    "from sklearn import tree\n",
    "from sklearn.model_selection import train_test_split\n",
    "from sklearn.decomposition import PCA\n",
    "from sklearn.linear_model import LogisticRegression\n",
    "from sklearn.metrics import mean_squared_error\n",
    "from sklearn.ensemble import BaggingClassifier\n",
    "from sklearn.ensemble import RandomForestClassifier\n",
    "from sklearn.model_selection import GridSearchCV\n",
    "from sklearn.neighbors import KNeighborsClassifier\n",
    "from sklearn.naive_bayes import GaussianNB\n",
    "from sklearn import svm"
   ]
  },
  {
   "cell_type": "code",
   "execution_count": 2,
   "metadata": {
    "ExecuteTime": {
     "end_time": "2021-01-03T14:57:37.526254Z",
     "start_time": "2021-01-03T14:57:36.997091Z"
    }
   },
   "outputs": [],
   "source": [
    "data1 = pd.read_csv('[Track1_데이터3] samp_cst_feat.csv',encoding = 'euc-kr')\n",
    "data2 = pd.read_csv('[Track1_데이터2] samp_train.csv',encoding = 'euc-kr')\n",
    "data1[\"MRC_ID_DI\"] = data2[\"MRC_ID_DI\"]"
   ]
  },
  {
   "cell_type": "code",
   "execution_count": 3,
   "metadata": {
    "ExecuteTime": {
     "end_time": "2021-01-03T14:57:37.540176Z",
     "start_time": "2021-01-03T14:57:37.533178Z"
    }
   },
   "outputs": [],
   "source": [
    "data1[\"MRC_ID_DI\"] = data2[\"MRC_ID_DI\"]"
   ]
  },
  {
   "cell_type": "code",
   "execution_count": 4,
   "metadata": {
    "ExecuteTime": {
     "end_time": "2021-01-03T14:57:37.551163Z",
     "start_time": "2021-01-03T14:57:37.545145Z"
    }
   },
   "outputs": [],
   "source": [
    "categories = ['VAR007','VAR015','VAR018','VAR026','VAR059',\n",
    "              'VAR066','VAR067','VAR070','VAR077','VAR078',\n",
    "              'VAR094','VAR096','VAR097','VAR098','VAR107',\n",
    "              'VAR111','VAR124','VAR127','VAR143','VAR144',\n",
    "              'VAR145','VAR148','VAR165','VAR177','VAR179',\n",
    "              'VAR199','VAR208',\"MRC_ID_DI\"]"
   ]
  },
  {
   "cell_type": "code",
   "execution_count": 5,
   "metadata": {
    "ExecuteTime": {
     "end_time": "2021-01-03T14:57:37.575102Z",
     "start_time": "2021-01-03T14:57:37.554125Z"
    }
   },
   "outputs": [],
   "source": [
    "data1[categories] = data1[categories].astype(\"int64\")"
   ]
  },
  {
   "cell_type": "code",
   "execution_count": 6,
   "metadata": {
    "ExecuteTime": {
     "end_time": "2021-01-03T14:57:37.596009Z",
     "start_time": "2021-01-03T14:57:37.580051Z"
    }
   },
   "outputs": [
    {
     "data": {
      "text/plain": [
       "MRC_ID_DI\n",
       "0     8200\n",
       "1       85\n",
       "2       14\n",
       "3       32\n",
       "4       11\n",
       "5      143\n",
       "6      554\n",
       "7      661\n",
       "8      337\n",
       "9       59\n",
       "10      28\n",
       "dtype: int64"
      ]
     },
     "execution_count": 6,
     "metadata": {},
     "output_type": "execute_result"
    }
   ],
   "source": [
    "data1.groupby([\"MRC_ID_DI\"]).size()"
   ]
  },
  {
   "cell_type": "markdown",
   "metadata": {},
   "source": [
    "#### 온라인 마켓 사용, 미사용으로 분류"
   ]
  },
  {
   "cell_type": "code",
   "execution_count": 7,
   "metadata": {
    "ExecuteTime": {
     "end_time": "2021-01-03T14:57:37.612981Z",
     "start_time": "2021-01-03T14:57:37.600996Z"
    }
   },
   "outputs": [],
   "source": [
    "data1[\"MRC_ID_DI\"] = data1[\"MRC_ID_DI\"].replace(range(1,11),1)"
   ]
  },
  {
   "cell_type": "code",
   "execution_count": 8,
   "metadata": {
    "ExecuteTime": {
     "end_time": "2021-01-03T14:57:37.639909Z",
     "start_time": "2021-01-03T14:57:37.615960Z"
    }
   },
   "outputs": [],
   "source": [
    "data1 = data1.drop(['cst_id_di'],axis = 1)"
   ]
  },
  {
   "cell_type": "code",
   "execution_count": 9,
   "metadata": {
    "ExecuteTime": {
     "end_time": "2021-01-03T14:57:37.754596Z",
     "start_time": "2021-01-03T14:57:37.645878Z"
    }
   },
   "outputs": [
    {
     "data": {
      "text/html": [
       "<div>\n",
       "<style scoped>\n",
       "    .dataframe tbody tr th:only-of-type {\n",
       "        vertical-align: middle;\n",
       "    }\n",
       "\n",
       "    .dataframe tbody tr th {\n",
       "        vertical-align: top;\n",
       "    }\n",
       "\n",
       "    .dataframe thead th {\n",
       "        text-align: right;\n",
       "    }\n",
       "</style>\n",
       "<table border=\"1\" class=\"dataframe\">\n",
       "  <thead>\n",
       "    <tr style=\"text-align: right;\">\n",
       "      <th></th>\n",
       "      <th>const</th>\n",
       "      <th>VAR002</th>\n",
       "      <th>VAR003</th>\n",
       "      <th>VAR004</th>\n",
       "      <th>VAR005</th>\n",
       "      <th>VAR006</th>\n",
       "      <th>VAR007</th>\n",
       "      <th>VAR008</th>\n",
       "      <th>VAR009</th>\n",
       "      <th>VAR010</th>\n",
       "      <th>...</th>\n",
       "      <th>VAR219</th>\n",
       "      <th>VAR220</th>\n",
       "      <th>VAR221</th>\n",
       "      <th>VAR222</th>\n",
       "      <th>VAR223</th>\n",
       "      <th>VAR224</th>\n",
       "      <th>VAR225</th>\n",
       "      <th>VAR226</th>\n",
       "      <th>VAR227</th>\n",
       "      <th>MRC_ID_DI</th>\n",
       "    </tr>\n",
       "  </thead>\n",
       "  <tbody>\n",
       "    <tr>\n",
       "      <th>0</th>\n",
       "      <td>1.0</td>\n",
       "      <td>-0.06610</td>\n",
       "      <td>0.5280</td>\n",
       "      <td>-0.13607</td>\n",
       "      <td>0.10945</td>\n",
       "      <td>0.06557</td>\n",
       "      <td>0</td>\n",
       "      <td>0.7702</td>\n",
       "      <td>-0.18965</td>\n",
       "      <td>0.1981</td>\n",
       "      <td>...</td>\n",
       "      <td>0.19113</td>\n",
       "      <td>0.05449</td>\n",
       "      <td>0.09471</td>\n",
       "      <td>0.27091</td>\n",
       "      <td>0.01931</td>\n",
       "      <td>0.02938</td>\n",
       "      <td>0.17105</td>\n",
       "      <td>0.12537</td>\n",
       "      <td>0.22197</td>\n",
       "      <td>0</td>\n",
       "    </tr>\n",
       "    <tr>\n",
       "      <th>1</th>\n",
       "      <td>1.0</td>\n",
       "      <td>-0.09537</td>\n",
       "      <td>0.1347</td>\n",
       "      <td>-0.13541</td>\n",
       "      <td>0.17331</td>\n",
       "      <td>-0.19657</td>\n",
       "      <td>0</td>\n",
       "      <td>0.0616</td>\n",
       "      <td>-0.23104</td>\n",
       "      <td>0.4940</td>\n",
       "      <td>...</td>\n",
       "      <td>0.19437</td>\n",
       "      <td>0.06538</td>\n",
       "      <td>0.16309</td>\n",
       "      <td>0.30207</td>\n",
       "      <td>0.06053</td>\n",
       "      <td>-0.01107</td>\n",
       "      <td>0.12413</td>\n",
       "      <td>0.29702</td>\n",
       "      <td>-0.31717</td>\n",
       "      <td>1</td>\n",
       "    </tr>\n",
       "    <tr>\n",
       "      <th>2</th>\n",
       "      <td>1.0</td>\n",
       "      <td>-0.01048</td>\n",
       "      <td>0.8360</td>\n",
       "      <td>0.37797</td>\n",
       "      <td>-0.10970</td>\n",
       "      <td>0.52032</td>\n",
       "      <td>1</td>\n",
       "      <td>0.3257</td>\n",
       "      <td>0.32632</td>\n",
       "      <td>0.7343</td>\n",
       "      <td>...</td>\n",
       "      <td>-0.52084</td>\n",
       "      <td>-0.18568</td>\n",
       "      <td>-0.09755</td>\n",
       "      <td>-0.56565</td>\n",
       "      <td>-0.17840</td>\n",
       "      <td>-0.06314</td>\n",
       "      <td>-0.17111</td>\n",
       "      <td>-0.32239</td>\n",
       "      <td>0.33962</td>\n",
       "      <td>0</td>\n",
       "    </tr>\n",
       "    <tr>\n",
       "      <th>3</th>\n",
       "      <td>1.0</td>\n",
       "      <td>0.05194</td>\n",
       "      <td>0.7505</td>\n",
       "      <td>0.04611</td>\n",
       "      <td>-0.16512</td>\n",
       "      <td>0.07413</td>\n",
       "      <td>0</td>\n",
       "      <td>0.5322</td>\n",
       "      <td>0.26845</td>\n",
       "      <td>0.7327</td>\n",
       "      <td>...</td>\n",
       "      <td>-0.01934</td>\n",
       "      <td>-0.05172</td>\n",
       "      <td>-0.13245</td>\n",
       "      <td>-0.16357</td>\n",
       "      <td>-0.05697</td>\n",
       "      <td>0.01587</td>\n",
       "      <td>-0.04022</td>\n",
       "      <td>0.31213</td>\n",
       "      <td>-0.00559</td>\n",
       "      <td>1</td>\n",
       "    </tr>\n",
       "    <tr>\n",
       "      <th>4</th>\n",
       "      <td>1.0</td>\n",
       "      <td>-0.08536</td>\n",
       "      <td>0.3767</td>\n",
       "      <td>-0.12288</td>\n",
       "      <td>0.10023</td>\n",
       "      <td>-0.43414</td>\n",
       "      <td>0</td>\n",
       "      <td>0.5468</td>\n",
       "      <td>-0.25575</td>\n",
       "      <td>0.9644</td>\n",
       "      <td>...</td>\n",
       "      <td>0.23122</td>\n",
       "      <td>0.07913</td>\n",
       "      <td>0.09206</td>\n",
       "      <td>0.46971</td>\n",
       "      <td>0.07964</td>\n",
       "      <td>-0.04698</td>\n",
       "      <td>0.03581</td>\n",
       "      <td>0.22588</td>\n",
       "      <td>-0.34868</td>\n",
       "      <td>1</td>\n",
       "    </tr>\n",
       "  </tbody>\n",
       "</table>\n",
       "<p>5 rows × 228 columns</p>\n",
       "</div>"
      ],
      "text/plain": [
       "   const   VAR002  VAR003   VAR004   VAR005   VAR006  VAR007  VAR008   VAR009  \\\n",
       "0    1.0 -0.06610  0.5280 -0.13607  0.10945  0.06557       0  0.7702 -0.18965   \n",
       "1    1.0 -0.09537  0.1347 -0.13541  0.17331 -0.19657       0  0.0616 -0.23104   \n",
       "2    1.0 -0.01048  0.8360  0.37797 -0.10970  0.52032       1  0.3257  0.32632   \n",
       "3    1.0  0.05194  0.7505  0.04611 -0.16512  0.07413       0  0.5322  0.26845   \n",
       "4    1.0 -0.08536  0.3767 -0.12288  0.10023 -0.43414       0  0.5468 -0.25575   \n",
       "\n",
       "   VAR010  ...   VAR219   VAR220   VAR221   VAR222   VAR223   VAR224   VAR225  \\\n",
       "0  0.1981  ...  0.19113  0.05449  0.09471  0.27091  0.01931  0.02938  0.17105   \n",
       "1  0.4940  ...  0.19437  0.06538  0.16309  0.30207  0.06053 -0.01107  0.12413   \n",
       "2  0.7343  ... -0.52084 -0.18568 -0.09755 -0.56565 -0.17840 -0.06314 -0.17111   \n",
       "3  0.7327  ... -0.01934 -0.05172 -0.13245 -0.16357 -0.05697  0.01587 -0.04022   \n",
       "4  0.9644  ...  0.23122  0.07913  0.09206  0.46971  0.07964 -0.04698  0.03581   \n",
       "\n",
       "    VAR226   VAR227  MRC_ID_DI  \n",
       "0  0.12537  0.22197          0  \n",
       "1  0.29702 -0.31717          1  \n",
       "2 -0.32239  0.33962          0  \n",
       "3  0.31213 -0.00559          1  \n",
       "4  0.22588 -0.34868          1  \n",
       "\n",
       "[5 rows x 228 columns]"
      ]
     },
     "execution_count": 9,
     "metadata": {},
     "output_type": "execute_result"
    }
   ],
   "source": [
    "samsung = sm.add_constant(data1, has_constant = 'add')\n",
    "samsung.head()"
   ]
  },
  {
   "cell_type": "code",
   "execution_count": 10,
   "metadata": {
    "ExecuteTime": {
     "end_time": "2021-01-03T14:57:37.807452Z",
     "start_time": "2021-01-03T14:57:37.757577Z"
    }
   },
   "outputs": [
    {
     "name": "stdout",
     "output_type": "stream",
     "text": [
      "0        0\n",
      "1        1\n",
      "2        0\n",
      "3        1\n",
      "4        1\n",
      "        ..\n",
      "10119    1\n",
      "10120    0\n",
      "10121    0\n",
      "10122    0\n",
      "10123    0\n",
      "Name: MRC_ID_DI, Length: 10124, dtype: int64\n"
     ]
    }
   ],
   "source": [
    "feature_columns = list(samsung.columns.difference([\"MRC_ID_DI\"]))\n",
    "X = samsung[feature_columns]\n",
    "y = samsung[\"MRC_ID_DI\"]\n",
    "print(y)"
   ]
  },
  {
   "cell_type": "code",
   "execution_count": 11,
   "metadata": {
    "ExecuteTime": {
     "end_time": "2021-01-03T14:57:37.884242Z",
     "start_time": "2021-01-03T14:57:37.812430Z"
    }
   },
   "outputs": [
    {
     "name": "stdout",
     "output_type": "stream",
     "text": [
      "x_train.shape = (7086, 227), x_test.shape = (3038, 227), y_train.shape = (7086,), y_test.shape = (3038,)\n"
     ]
    }
   ],
   "source": [
    "x_train, x_test, y_train, y_test = train_test_split(X, y,\n",
    "                                                   train_size = 0.7, test_size = 0.3,\n",
    "                                                   random_state = 100) #set_seed\n",
    "print(\"x_train.shape = {}, x_test.shape = {}, y_train.shape = {}, y_test.shape = {}\".format(x_train.shape, x_test.shape,\n",
    "                                                                                            y_train.shape, y_test.shape))"
   ]
  },
  {
   "cell_type": "code",
   "execution_count": 12,
   "metadata": {
    "ExecuteTime": {
     "end_time": "2021-01-03T14:57:39.350323Z",
     "start_time": "2021-01-03T14:57:37.887230Z"
    },
    "scrolled": false
   },
   "outputs": [
    {
     "name": "stdout",
     "output_type": "stream",
     "text": [
      "Warning: Maximum number of iterations has been exceeded.\n",
      "         Current function value: 0.291643\n",
      "         Iterations: 35\n"
     ]
    },
    {
     "name": "stderr",
     "output_type": "stream",
     "text": [
      "c:\\users\\minisong\\appdata\\local\\programs\\python\\python37\\lib\\site-packages\\statsmodels\\base\\model.py:568: ConvergenceWarning: Maximum Likelihood optimization failed to converge. Check mle_retvals\n",
      "  ConvergenceWarning)\n"
     ]
    }
   ],
   "source": [
    "model = sm.Logit(y_train, x_train)\n",
    "results = model.fit(method = \"newton\")"
   ]
  },
  {
   "cell_type": "code",
   "execution_count": 13,
   "metadata": {
    "ExecuteTime": {
     "end_time": "2021-01-03T14:57:39.513940Z",
     "start_time": "2021-01-03T14:57:39.353299Z"
    }
   },
   "outputs": [
    {
     "data": {
      "text/html": [
       "<table class=\"simpletable\">\n",
       "<caption>Logit Regression Results</caption>\n",
       "<tr>\n",
       "  <th>Dep. Variable:</th>       <td>MRC_ID_DI</td>    <th>  No. Observations:  </th>  <td>  7086</td> \n",
       "</tr>\n",
       "<tr>\n",
       "  <th>Model:</th>                 <td>Logit</td>      <th>  Df Residuals:      </th>  <td>  6861</td> \n",
       "</tr>\n",
       "<tr>\n",
       "  <th>Method:</th>                 <td>MLE</td>       <th>  Df Model:          </th>  <td>   224</td> \n",
       "</tr>\n",
       "<tr>\n",
       "  <th>Date:</th>            <td>Sun, 03 Jan 2021</td> <th>  Pseudo R-squ.:     </th>  <td>0.4009</td> \n",
       "</tr>\n",
       "<tr>\n",
       "  <th>Time:</th>                <td>23:57:39</td>     <th>  Log-Likelihood:    </th> <td> -2066.6</td>\n",
       "</tr>\n",
       "<tr>\n",
       "  <th>converged:</th>             <td>False</td>      <th>  LL-Null:           </th> <td> -3449.2</td>\n",
       "</tr>\n",
       "<tr>\n",
       "  <th>Covariance Type:</th>     <td>nonrobust</td>    <th>  LLR p-value:       </th>  <td> 0.000</td> \n",
       "</tr>\n",
       "</table>\n",
       "<table class=\"simpletable\">\n",
       "<tr>\n",
       "     <td></td>       <th>coef</th>     <th>std err</th>      <th>z</th>      <th>P>|z|</th>  <th>[0.025</th>    <th>0.975]</th>  \n",
       "</tr>\n",
       "<tr>\n",
       "  <th>VAR002</th> <td>    0.9805</td> <td>    0.863</td> <td>    1.136</td> <td> 0.256</td> <td>   -0.711</td> <td>    2.672</td>\n",
       "</tr>\n",
       "<tr>\n",
       "  <th>VAR003</th> <td>   -1.3099</td> <td>    0.255</td> <td>   -5.133</td> <td> 0.000</td> <td>   -1.810</td> <td>   -0.810</td>\n",
       "</tr>\n",
       "<tr>\n",
       "  <th>VAR004</th> <td>   -6.8278</td> <td>    4.186</td> <td>   -1.631</td> <td> 0.103</td> <td>  -15.032</td> <td>    1.377</td>\n",
       "</tr>\n",
       "<tr>\n",
       "  <th>VAR005</th> <td>   -0.5489</td> <td>    0.793</td> <td>   -0.692</td> <td> 0.489</td> <td>   -2.103</td> <td>    1.005</td>\n",
       "</tr>\n",
       "<tr>\n",
       "  <th>VAR006</th> <td>   -6.0795</td> <td>    4.581</td> <td>   -1.327</td> <td> 0.184</td> <td>  -15.059</td> <td>    2.899</td>\n",
       "</tr>\n",
       "<tr>\n",
       "  <th>VAR007</th> <td>   -4.1644</td> <td>      nan</td> <td>      nan</td> <td>   nan</td> <td>      nan</td> <td>      nan</td>\n",
       "</tr>\n",
       "<tr>\n",
       "  <th>VAR008</th> <td>    0.0314</td> <td>    0.145</td> <td>    0.216</td> <td> 0.829</td> <td>   -0.253</td> <td>    0.315</td>\n",
       "</tr>\n",
       "<tr>\n",
       "  <th>VAR009</th> <td>   10.7495</td> <td>    3.798</td> <td>    2.830</td> <td> 0.005</td> <td>    3.306</td> <td>   18.193</td>\n",
       "</tr>\n",
       "<tr>\n",
       "  <th>VAR010</th> <td>    0.4786</td> <td>    0.209</td> <td>    2.287</td> <td> 0.022</td> <td>    0.068</td> <td>    0.889</td>\n",
       "</tr>\n",
       "<tr>\n",
       "  <th>VAR011</th> <td>   21.3952</td> <td>    7.653</td> <td>    2.796</td> <td> 0.005</td> <td>    6.395</td> <td>   36.395</td>\n",
       "</tr>\n",
       "<tr>\n",
       "  <th>VAR012</th> <td>  -10.6301</td> <td>   12.677</td> <td>   -0.839</td> <td> 0.402</td> <td>  -35.476</td> <td>   14.216</td>\n",
       "</tr>\n",
       "<tr>\n",
       "  <th>VAR013</th> <td>   -9.6184</td> <td>    8.952</td> <td>   -1.074</td> <td> 0.283</td> <td>  -27.165</td> <td>    7.928</td>\n",
       "</tr>\n",
       "<tr>\n",
       "  <th>VAR014</th> <td>   11.8766</td> <td>   12.224</td> <td>    0.972</td> <td> 0.331</td> <td>  -12.081</td> <td>   35.834</td>\n",
       "</tr>\n",
       "<tr>\n",
       "  <th>VAR015</th> <td>   -0.0264</td> <td>    0.109</td> <td>   -0.243</td> <td> 0.808</td> <td>   -0.239</td> <td>    0.187</td>\n",
       "</tr>\n",
       "<tr>\n",
       "  <th>VAR016</th> <td>    0.4083</td> <td>    0.343</td> <td>    1.189</td> <td> 0.234</td> <td>   -0.265</td> <td>    1.081</td>\n",
       "</tr>\n",
       "<tr>\n",
       "  <th>VAR017</th> <td>   -0.3969</td> <td>    0.364</td> <td>   -1.089</td> <td> 0.276</td> <td>   -1.111</td> <td>    0.317</td>\n",
       "</tr>\n",
       "<tr>\n",
       "  <th>VAR018</th> <td>   -3.8054</td> <td>      nan</td> <td>      nan</td> <td>   nan</td> <td>      nan</td> <td>      nan</td>\n",
       "</tr>\n",
       "<tr>\n",
       "  <th>VAR019</th> <td>   -2.3234</td> <td>    2.360</td> <td>   -0.984</td> <td> 0.325</td> <td>   -6.949</td> <td>    2.302</td>\n",
       "</tr>\n",
       "<tr>\n",
       "  <th>VAR020</th> <td>   -0.1065</td> <td>    0.730</td> <td>   -0.146</td> <td> 0.884</td> <td>   -1.537</td> <td>    1.324</td>\n",
       "</tr>\n",
       "<tr>\n",
       "  <th>VAR021</th> <td>   -0.6516</td> <td>    3.108</td> <td>   -0.210</td> <td> 0.834</td> <td>   -6.744</td> <td>    5.441</td>\n",
       "</tr>\n",
       "<tr>\n",
       "  <th>VAR022</th> <td>   -9.1762</td> <td>    6.006</td> <td>   -1.528</td> <td> 0.127</td> <td>  -20.947</td> <td>    2.595</td>\n",
       "</tr>\n",
       "<tr>\n",
       "  <th>VAR023</th> <td>    0.5575</td> <td>    0.630</td> <td>    0.886</td> <td> 0.376</td> <td>   -0.676</td> <td>    1.791</td>\n",
       "</tr>\n",
       "<tr>\n",
       "  <th>VAR024</th> <td>  -23.9447</td> <td>    9.827</td> <td>   -2.437</td> <td> 0.015</td> <td>  -43.206</td> <td>   -4.683</td>\n",
       "</tr>\n",
       "<tr>\n",
       "  <th>VAR025</th> <td>    3.0605</td> <td>    2.837</td> <td>    1.079</td> <td> 0.281</td> <td>   -2.500</td> <td>    8.621</td>\n",
       "</tr>\n",
       "<tr>\n",
       "  <th>VAR026</th> <td>    0.3359</td> <td>    0.301</td> <td>    1.116</td> <td> 0.265</td> <td>   -0.254</td> <td>    0.926</td>\n",
       "</tr>\n",
       "<tr>\n",
       "  <th>VAR027</th> <td>   12.7854</td> <td>    6.842</td> <td>    1.869</td> <td> 0.062</td> <td>   -0.624</td> <td>   26.194</td>\n",
       "</tr>\n",
       "<tr>\n",
       "  <th>VAR028</th> <td>   -8.2900</td> <td>    8.727</td> <td>   -0.950</td> <td> 0.342</td> <td>  -25.394</td> <td>    8.814</td>\n",
       "</tr>\n",
       "<tr>\n",
       "  <th>VAR029</th> <td>   -3.3883</td> <td>    2.424</td> <td>   -1.398</td> <td> 0.162</td> <td>   -8.139</td> <td>    1.362</td>\n",
       "</tr>\n",
       "<tr>\n",
       "  <th>VAR030</th> <td>   -0.3684</td> <td>    0.684</td> <td>   -0.539</td> <td> 0.590</td> <td>   -1.709</td> <td>    0.972</td>\n",
       "</tr>\n",
       "<tr>\n",
       "  <th>VAR031</th> <td>    0.2546</td> <td>    0.216</td> <td>    1.179</td> <td> 0.238</td> <td>   -0.169</td> <td>    0.678</td>\n",
       "</tr>\n",
       "<tr>\n",
       "  <th>VAR032</th> <td>   21.5431</td> <td>   13.056</td> <td>    1.650</td> <td> 0.099</td> <td>   -4.046</td> <td>   47.132</td>\n",
       "</tr>\n",
       "<tr>\n",
       "  <th>VAR033</th> <td>    1.0529</td> <td>    0.771</td> <td>    1.366</td> <td> 0.172</td> <td>   -0.458</td> <td>    2.564</td>\n",
       "</tr>\n",
       "<tr>\n",
       "  <th>VAR034</th> <td>   -7.1137</td> <td>    3.553</td> <td>   -2.002</td> <td> 0.045</td> <td>  -14.078</td> <td>   -0.150</td>\n",
       "</tr>\n",
       "<tr>\n",
       "  <th>VAR035</th> <td>  -13.1516</td> <td>    4.729</td> <td>   -2.781</td> <td> 0.005</td> <td>  -22.420</td> <td>   -3.883</td>\n",
       "</tr>\n",
       "<tr>\n",
       "  <th>VAR036</th> <td>    0.1145</td> <td>    0.166</td> <td>    0.688</td> <td> 0.491</td> <td>   -0.212</td> <td>    0.441</td>\n",
       "</tr>\n",
       "<tr>\n",
       "  <th>VAR037</th> <td>   -4.8779</td> <td>    2.239</td> <td>   -2.179</td> <td> 0.029</td> <td>   -9.266</td> <td>   -0.490</td>\n",
       "</tr>\n",
       "<tr>\n",
       "  <th>VAR038</th> <td>   -6.9008</td> <td>    5.840</td> <td>   -1.182</td> <td> 0.237</td> <td>  -18.347</td> <td>    4.545</td>\n",
       "</tr>\n",
       "<tr>\n",
       "  <th>VAR039</th> <td>  -16.3386</td> <td>   12.215</td> <td>   -1.338</td> <td> 0.181</td> <td>  -40.280</td> <td>    7.603</td>\n",
       "</tr>\n",
       "<tr>\n",
       "  <th>VAR040</th> <td>    2.9889</td> <td>    1.628</td> <td>    1.836</td> <td> 0.066</td> <td>   -0.202</td> <td>    6.180</td>\n",
       "</tr>\n",
       "<tr>\n",
       "  <th>VAR041</th> <td>   31.6206</td> <td>    9.311</td> <td>    3.396</td> <td> 0.001</td> <td>   13.372</td> <td>   49.869</td>\n",
       "</tr>\n",
       "<tr>\n",
       "  <th>VAR042</th> <td>    1.0893</td> <td>    0.660</td> <td>    1.651</td> <td> 0.099</td> <td>   -0.204</td> <td>    2.383</td>\n",
       "</tr>\n",
       "<tr>\n",
       "  <th>VAR043</th> <td>   -1.2646</td> <td>    2.387</td> <td>   -0.530</td> <td> 0.596</td> <td>   -5.943</td> <td>    3.414</td>\n",
       "</tr>\n",
       "<tr>\n",
       "  <th>VAR044</th> <td>    0.1922</td> <td>    0.565</td> <td>    0.340</td> <td> 0.734</td> <td>   -0.914</td> <td>    1.299</td>\n",
       "</tr>\n",
       "<tr>\n",
       "  <th>VAR045</th> <td>   -1.4806</td> <td>    0.867</td> <td>   -1.709</td> <td> 0.088</td> <td>   -3.179</td> <td>    0.218</td>\n",
       "</tr>\n",
       "<tr>\n",
       "  <th>VAR046</th> <td>    9.5476</td> <td>    3.015</td> <td>    3.167</td> <td> 0.002</td> <td>    3.638</td> <td>   15.457</td>\n",
       "</tr>\n",
       "<tr>\n",
       "  <th>VAR047</th> <td>    9.0952</td> <td>    3.565</td> <td>    2.551</td> <td> 0.011</td> <td>    2.108</td> <td>   16.083</td>\n",
       "</tr>\n",
       "<tr>\n",
       "  <th>VAR048</th> <td>    4.6182</td> <td>    7.332</td> <td>    0.630</td> <td> 0.529</td> <td>   -9.752</td> <td>   18.988</td>\n",
       "</tr>\n",
       "<tr>\n",
       "  <th>VAR049</th> <td>    3.5957</td> <td>    4.123</td> <td>    0.872</td> <td> 0.383</td> <td>   -4.485</td> <td>   11.677</td>\n",
       "</tr>\n",
       "<tr>\n",
       "  <th>VAR050</th> <td>    3.4670</td> <td>    3.005</td> <td>    1.154</td> <td> 0.249</td> <td>   -2.423</td> <td>    9.357</td>\n",
       "</tr>\n",
       "<tr>\n",
       "  <th>VAR051</th> <td>    1.1179</td> <td>    3.877</td> <td>    0.288</td> <td> 0.773</td> <td>   -6.480</td> <td>    8.716</td>\n",
       "</tr>\n",
       "<tr>\n",
       "  <th>VAR052</th> <td>   -1.4835</td> <td>   14.079</td> <td>   -0.105</td> <td> 0.916</td> <td>  -29.077</td> <td>   26.110</td>\n",
       "</tr>\n",
       "<tr>\n",
       "  <th>VAR053</th> <td>   24.4722</td> <td>    7.868</td> <td>    3.110</td> <td> 0.002</td> <td>    9.051</td> <td>   39.894</td>\n",
       "</tr>\n",
       "<tr>\n",
       "  <th>VAR054</th> <td>    2.9817</td> <td>    7.905</td> <td>    0.377</td> <td> 0.706</td> <td>  -12.512</td> <td>   18.476</td>\n",
       "</tr>\n",
       "<tr>\n",
       "  <th>VAR055</th> <td>   -7.4252</td> <td>    8.963</td> <td>   -0.828</td> <td> 0.407</td> <td>  -24.991</td> <td>   10.141</td>\n",
       "</tr>\n",
       "<tr>\n",
       "  <th>VAR056</th> <td>   -3.6191</td> <td>    2.598</td> <td>   -1.393</td> <td> 0.164</td> <td>   -8.711</td> <td>    1.473</td>\n",
       "</tr>\n",
       "<tr>\n",
       "  <th>VAR057</th> <td>   -7.2312</td> <td>   10.850</td> <td>   -0.666</td> <td> 0.505</td> <td>  -28.497</td> <td>   14.035</td>\n",
       "</tr>\n",
       "<tr>\n",
       "  <th>VAR058</th> <td>   -5.5794</td> <td>    7.672</td> <td>   -0.727</td> <td> 0.467</td> <td>  -20.617</td> <td>    9.458</td>\n",
       "</tr>\n",
       "<tr>\n",
       "  <th>VAR059</th> <td>   -3.4966</td> <td>      nan</td> <td>      nan</td> <td>   nan</td> <td>      nan</td> <td>      nan</td>\n",
       "</tr>\n",
       "<tr>\n",
       "  <th>VAR060</th> <td>   44.4833</td> <td>   19.606</td> <td>    2.269</td> <td> 0.023</td> <td>    6.056</td> <td>   82.910</td>\n",
       "</tr>\n",
       "<tr>\n",
       "  <th>VAR061</th> <td>   18.9104</td> <td>    8.493</td> <td>    2.226</td> <td> 0.026</td> <td>    2.264</td> <td>   35.557</td>\n",
       "</tr>\n",
       "<tr>\n",
       "  <th>VAR062</th> <td>    0.1248</td> <td>    0.249</td> <td>    0.500</td> <td> 0.617</td> <td>   -0.364</td> <td>    0.614</td>\n",
       "</tr>\n",
       "<tr>\n",
       "  <th>VAR063</th> <td>   10.2519</td> <td>    5.011</td> <td>    2.046</td> <td> 0.041</td> <td>    0.430</td> <td>   20.074</td>\n",
       "</tr>\n",
       "<tr>\n",
       "  <th>VAR064</th> <td>   -5.4441</td> <td>    2.185</td> <td>   -2.492</td> <td> 0.013</td> <td>   -9.726</td> <td>   -1.162</td>\n",
       "</tr>\n",
       "<tr>\n",
       "  <th>VAR065</th> <td>    0.8384</td> <td>    0.676</td> <td>    1.240</td> <td> 0.215</td> <td>   -0.487</td> <td>    2.164</td>\n",
       "</tr>\n",
       "<tr>\n",
       "  <th>VAR066</th> <td>   -0.0202</td> <td>    0.104</td> <td>   -0.194</td> <td> 0.846</td> <td>   -0.224</td> <td>    0.183</td>\n",
       "</tr>\n",
       "<tr>\n",
       "  <th>VAR067</th> <td>    0.3076</td> <td>    0.144</td> <td>    2.133</td> <td> 0.033</td> <td>    0.025</td> <td>    0.590</td>\n",
       "</tr>\n",
       "<tr>\n",
       "  <th>VAR068</th> <td>    1.9271</td> <td>    7.781</td> <td>    0.248</td> <td> 0.804</td> <td>  -13.324</td> <td>   17.178</td>\n",
       "</tr>\n",
       "<tr>\n",
       "  <th>VAR069</th> <td>   -5.9979</td> <td>    5.313</td> <td>   -1.129</td> <td> 0.259</td> <td>  -16.411</td> <td>    4.415</td>\n",
       "</tr>\n",
       "<tr>\n",
       "  <th>VAR070</th> <td>   -0.2497</td> <td>    0.136</td> <td>   -1.831</td> <td> 0.067</td> <td>   -0.517</td> <td>    0.018</td>\n",
       "</tr>\n",
       "<tr>\n",
       "  <th>VAR071</th> <td>   23.1115</td> <td>  2.4e+05</td> <td> 9.61e-05</td> <td> 1.000</td> <td>-4.71e+05</td> <td> 4.71e+05</td>\n",
       "</tr>\n",
       "<tr>\n",
       "  <th>VAR072</th> <td>   -1.1143</td> <td>    1.035</td> <td>   -1.076</td> <td> 0.282</td> <td>   -3.144</td> <td>    0.915</td>\n",
       "</tr>\n",
       "<tr>\n",
       "  <th>VAR073</th> <td>   -5.8983</td> <td>   11.009</td> <td>   -0.536</td> <td> 0.592</td> <td>  -27.475</td> <td>   15.678</td>\n",
       "</tr>\n",
       "<tr>\n",
       "  <th>VAR074</th> <td>   -1.6455</td> <td>    0.850</td> <td>   -1.936</td> <td> 0.053</td> <td>   -3.311</td> <td>    0.020</td>\n",
       "</tr>\n",
       "<tr>\n",
       "  <th>VAR075</th> <td>    3.3720</td> <td>    2.075</td> <td>    1.625</td> <td> 0.104</td> <td>   -0.696</td> <td>    7.440</td>\n",
       "</tr>\n",
       "<tr>\n",
       "  <th>VAR076</th> <td>  -33.2752</td> <td>   18.145</td> <td>   -1.834</td> <td> 0.067</td> <td>  -68.838</td> <td>    2.288</td>\n",
       "</tr>\n",
       "<tr>\n",
       "  <th>VAR077</th> <td>   22.6946</td> <td>  2.4e+05</td> <td> 9.44e-05</td> <td> 1.000</td> <td>-4.71e+05</td> <td> 4.71e+05</td>\n",
       "</tr>\n",
       "<tr>\n",
       "  <th>VAR078</th> <td>   -0.3564</td> <td>    0.245</td> <td>   -1.458</td> <td> 0.145</td> <td>   -0.836</td> <td>    0.123</td>\n",
       "</tr>\n",
       "<tr>\n",
       "  <th>VAR079</th> <td>  -15.8424</td> <td>    7.377</td> <td>   -2.147</td> <td> 0.032</td> <td>  -30.302</td> <td>   -1.383</td>\n",
       "</tr>\n",
       "<tr>\n",
       "  <th>VAR080</th> <td>   -1.5592</td> <td>    2.062</td> <td>   -0.756</td> <td> 0.450</td> <td>   -5.601</td> <td>    2.483</td>\n",
       "</tr>\n",
       "<tr>\n",
       "  <th>VAR081</th> <td>    0.6829</td> <td>    2.213</td> <td>    0.309</td> <td> 0.758</td> <td>   -3.654</td> <td>    5.020</td>\n",
       "</tr>\n",
       "<tr>\n",
       "  <th>VAR082</th> <td>    2.3300</td> <td>    1.344</td> <td>    1.733</td> <td> 0.083</td> <td>   -0.305</td> <td>    4.965</td>\n",
       "</tr>\n",
       "<tr>\n",
       "  <th>VAR083</th> <td>   -1.0773</td> <td>    0.756</td> <td>   -1.425</td> <td> 0.154</td> <td>   -2.559</td> <td>    0.405</td>\n",
       "</tr>\n",
       "<tr>\n",
       "  <th>VAR084</th> <td>    0.5352</td> <td>    0.383</td> <td>    1.398</td> <td> 0.162</td> <td>   -0.215</td> <td>    1.285</td>\n",
       "</tr>\n",
       "<tr>\n",
       "  <th>VAR085</th> <td>   13.0340</td> <td>    7.959</td> <td>    1.638</td> <td> 0.101</td> <td>   -2.565</td> <td>   28.633</td>\n",
       "</tr>\n",
       "<tr>\n",
       "  <th>VAR086</th> <td>    0.4756</td> <td>    0.989</td> <td>    0.481</td> <td> 0.631</td> <td>   -1.464</td> <td>    2.415</td>\n",
       "</tr>\n",
       "<tr>\n",
       "  <th>VAR087</th> <td>   -9.4043</td> <td>   10.572</td> <td>   -0.890</td> <td> 0.374</td> <td>  -30.124</td> <td>   11.315</td>\n",
       "</tr>\n",
       "<tr>\n",
       "  <th>VAR088</th> <td>    0.3527</td> <td>    0.787</td> <td>    0.448</td> <td> 0.654</td> <td>   -1.191</td> <td>    1.896</td>\n",
       "</tr>\n",
       "<tr>\n",
       "  <th>VAR089</th> <td>  -16.1214</td> <td>    9.834</td> <td>   -1.639</td> <td> 0.101</td> <td>  -35.396</td> <td>    3.153</td>\n",
       "</tr>\n",
       "<tr>\n",
       "  <th>VAR090</th> <td>    0.0715</td> <td>    0.162</td> <td>    0.442</td> <td> 0.659</td> <td>   -0.246</td> <td>    0.389</td>\n",
       "</tr>\n",
       "<tr>\n",
       "  <th>VAR091</th> <td>  -31.2327</td> <td>   11.735</td> <td>   -2.662</td> <td> 0.008</td> <td>  -54.232</td> <td>   -8.233</td>\n",
       "</tr>\n",
       "<tr>\n",
       "  <th>VAR092</th> <td>  -17.1996</td> <td>    7.120</td> <td>   -2.416</td> <td> 0.016</td> <td>  -31.155</td> <td>   -3.245</td>\n",
       "</tr>\n",
       "<tr>\n",
       "  <th>VAR093</th> <td>  -13.1838</td> <td>    3.786</td> <td>   -3.482</td> <td> 0.000</td> <td>  -20.605</td> <td>   -5.763</td>\n",
       "</tr>\n",
       "<tr>\n",
       "  <th>VAR094</th> <td>   23.8607</td> <td>  2.4e+05</td> <td> 9.92e-05</td> <td> 1.000</td> <td>-4.71e+05</td> <td> 4.71e+05</td>\n",
       "</tr>\n",
       "<tr>\n",
       "  <th>VAR095</th> <td>   -4.1679</td> <td>   14.107</td> <td>   -0.295</td> <td> 0.768</td> <td>  -31.817</td> <td>   23.481</td>\n",
       "</tr>\n",
       "<tr>\n",
       "  <th>VAR096</th> <td>   23.1051</td> <td>  2.4e+05</td> <td> 9.61e-05</td> <td> 1.000</td> <td>-4.71e+05</td> <td> 4.71e+05</td>\n",
       "</tr>\n",
       "<tr>\n",
       "  <th>VAR097</th> <td>   -3.8480</td> <td>  1.7e+06</td> <td>-2.26e-06</td> <td> 1.000</td> <td>-3.34e+06</td> <td> 3.34e+06</td>\n",
       "</tr>\n",
       "<tr>\n",
       "  <th>VAR098</th> <td>   23.5314</td> <td>  2.4e+05</td> <td> 9.79e-05</td> <td> 1.000</td> <td>-4.71e+05</td> <td> 4.71e+05</td>\n",
       "</tr>\n",
       "<tr>\n",
       "  <th>VAR099</th> <td>    0.4943</td> <td>    0.586</td> <td>    0.843</td> <td> 0.399</td> <td>   -0.654</td> <td>    1.643</td>\n",
       "</tr>\n",
       "<tr>\n",
       "  <th>VAR100</th> <td>    0.4954</td> <td>    0.600</td> <td>    0.826</td> <td> 0.409</td> <td>   -0.681</td> <td>    1.672</td>\n",
       "</tr>\n",
       "<tr>\n",
       "  <th>VAR101</th> <td>    1.2801</td> <td>    0.725</td> <td>    1.767</td> <td> 0.077</td> <td>   -0.140</td> <td>    2.700</td>\n",
       "</tr>\n",
       "<tr>\n",
       "  <th>VAR102</th> <td>    1.1719</td> <td>    0.615</td> <td>    1.905</td> <td> 0.057</td> <td>   -0.034</td> <td>    2.378</td>\n",
       "</tr>\n",
       "<tr>\n",
       "  <th>VAR103</th> <td>   -0.3646</td> <td>    0.243</td> <td>   -1.503</td> <td> 0.133</td> <td>   -0.840</td> <td>    0.111</td>\n",
       "</tr>\n",
       "<tr>\n",
       "  <th>VAR104</th> <td>    7.9931</td> <td>    2.098</td> <td>    3.809</td> <td> 0.000</td> <td>    3.880</td> <td>   12.106</td>\n",
       "</tr>\n",
       "<tr>\n",
       "  <th>VAR105</th> <td>   -0.0039</td> <td>    0.516</td> <td>   -0.008</td> <td> 0.994</td> <td>   -1.014</td> <td>    1.006</td>\n",
       "</tr>\n",
       "<tr>\n",
       "  <th>VAR106</th> <td>    0.2531</td> <td>    3.249</td> <td>    0.078</td> <td> 0.938</td> <td>   -6.114</td> <td>    6.620</td>\n",
       "</tr>\n",
       "<tr>\n",
       "  <th>VAR107</th> <td>   -2.9757</td> <td>  1.7e+06</td> <td>-1.75e-06</td> <td> 1.000</td> <td>-3.34e+06</td> <td> 3.34e+06</td>\n",
       "</tr>\n",
       "<tr>\n",
       "  <th>VAR108</th> <td>    1.0793</td> <td>    0.573</td> <td>    1.883</td> <td> 0.060</td> <td>   -0.044</td> <td>    2.203</td>\n",
       "</tr>\n",
       "<tr>\n",
       "  <th>VAR109</th> <td>    0.1061</td> <td>    1.922</td> <td>    0.055</td> <td> 0.956</td> <td>   -3.661</td> <td>    3.873</td>\n",
       "</tr>\n",
       "<tr>\n",
       "  <th>VAR110</th> <td>   -0.9532</td> <td>    0.624</td> <td>   -1.526</td> <td> 0.127</td> <td>   -2.177</td> <td>    0.271</td>\n",
       "</tr>\n",
       "<tr>\n",
       "  <th>VAR111</th> <td>   -3.2861</td> <td>      nan</td> <td>      nan</td> <td>   nan</td> <td>      nan</td> <td>      nan</td>\n",
       "</tr>\n",
       "<tr>\n",
       "  <th>VAR112</th> <td>    0.6505</td> <td>    0.598</td> <td>    1.088</td> <td> 0.277</td> <td>   -0.521</td> <td>    1.822</td>\n",
       "</tr>\n",
       "<tr>\n",
       "  <th>VAR113</th> <td>    0.4710</td> <td>    0.914</td> <td>    0.515</td> <td> 0.607</td> <td>   -1.321</td> <td>    2.263</td>\n",
       "</tr>\n",
       "<tr>\n",
       "  <th>VAR114</th> <td>  -46.7929</td> <td>   13.084</td> <td>   -3.576</td> <td> 0.000</td> <td>  -72.437</td> <td>  -21.149</td>\n",
       "</tr>\n",
       "<tr>\n",
       "  <th>VAR115</th> <td>    4.9330</td> <td>    2.274</td> <td>    2.170</td> <td> 0.030</td> <td>    0.477</td> <td>    9.389</td>\n",
       "</tr>\n",
       "<tr>\n",
       "  <th>VAR116</th> <td>    1.1783</td> <td>    8.785</td> <td>    0.134</td> <td> 0.893</td> <td>  -16.040</td> <td>   18.397</td>\n",
       "</tr>\n",
       "<tr>\n",
       "  <th>VAR117</th> <td>   -0.3665</td> <td>    0.326</td> <td>   -1.126</td> <td> 0.260</td> <td>   -1.005</td> <td>    0.272</td>\n",
       "</tr>\n",
       "<tr>\n",
       "  <th>VAR118</th> <td>   -3.7728</td> <td>    5.300</td> <td>   -0.712</td> <td> 0.477</td> <td>  -14.161</td> <td>    6.615</td>\n",
       "</tr>\n",
       "<tr>\n",
       "  <th>VAR119</th> <td>  -20.7899</td> <td>   17.345</td> <td>   -1.199</td> <td> 0.231</td> <td>  -54.786</td> <td>   13.206</td>\n",
       "</tr>\n",
       "<tr>\n",
       "  <th>VAR120</th> <td>   -2.2659</td> <td>    8.065</td> <td>   -0.281</td> <td> 0.779</td> <td>  -18.072</td> <td>   13.540</td>\n",
       "</tr>\n",
       "<tr>\n",
       "  <th>VAR121</th> <td>   -0.3907</td> <td>   11.247</td> <td>   -0.035</td> <td> 0.972</td> <td>  -22.435</td> <td>   21.653</td>\n",
       "</tr>\n",
       "<tr>\n",
       "  <th>VAR122</th> <td>   -3.0145</td> <td>    4.036</td> <td>   -0.747</td> <td> 0.455</td> <td>  -10.925</td> <td>    4.896</td>\n",
       "</tr>\n",
       "<tr>\n",
       "  <th>VAR123</th> <td>  -13.5015</td> <td>   14.786</td> <td>   -0.913</td> <td> 0.361</td> <td>  -42.482</td> <td>   15.479</td>\n",
       "</tr>\n",
       "<tr>\n",
       "  <th>VAR124</th> <td>   -4.0153</td> <td>  1.7e+06</td> <td>-2.36e-06</td> <td> 1.000</td> <td>-3.34e+06</td> <td> 3.34e+06</td>\n",
       "</tr>\n",
       "<tr>\n",
       "  <th>VAR125</th> <td>    0.8666</td> <td>    5.764</td> <td>    0.150</td> <td> 0.880</td> <td>  -10.430</td> <td>   12.163</td>\n",
       "</tr>\n",
       "<tr>\n",
       "  <th>VAR126</th> <td>    1.6936</td> <td>    2.242</td> <td>    0.755</td> <td> 0.450</td> <td>   -2.700</td> <td>    6.088</td>\n",
       "</tr>\n",
       "<tr>\n",
       "  <th>VAR127</th> <td>   -3.9839</td> <td>  1.7e+06</td> <td>-2.34e-06</td> <td> 1.000</td> <td>-3.34e+06</td> <td> 3.34e+06</td>\n",
       "</tr>\n",
       "<tr>\n",
       "  <th>VAR128</th> <td>  -11.2762</td> <td>    6.867</td> <td>   -1.642</td> <td> 0.101</td> <td>  -24.735</td> <td>    2.182</td>\n",
       "</tr>\n",
       "<tr>\n",
       "  <th>VAR129</th> <td>    1.2851</td> <td>    0.536</td> <td>    2.398</td> <td> 0.017</td> <td>    0.235</td> <td>    2.336</td>\n",
       "</tr>\n",
       "<tr>\n",
       "  <th>VAR130</th> <td>    2.1346</td> <td>    1.457</td> <td>    1.465</td> <td> 0.143</td> <td>   -0.721</td> <td>    4.991</td>\n",
       "</tr>\n",
       "<tr>\n",
       "  <th>VAR131</th> <td>   -0.5354</td> <td>    0.683</td> <td>   -0.784</td> <td> 0.433</td> <td>   -1.873</td> <td>    0.802</td>\n",
       "</tr>\n",
       "<tr>\n",
       "  <th>VAR132</th> <td>    0.7477</td> <td>    0.643</td> <td>    1.163</td> <td> 0.245</td> <td>   -0.513</td> <td>    2.008</td>\n",
       "</tr>\n",
       "<tr>\n",
       "  <th>VAR133</th> <td>   -1.5468</td> <td>    2.663</td> <td>   -0.581</td> <td> 0.561</td> <td>   -6.766</td> <td>    3.672</td>\n",
       "</tr>\n",
       "<tr>\n",
       "  <th>VAR134</th> <td>   -5.9612</td> <td>    6.168</td> <td>   -0.966</td> <td> 0.334</td> <td>  -18.051</td> <td>    6.129</td>\n",
       "</tr>\n",
       "<tr>\n",
       "  <th>VAR135</th> <td>    1.1786</td> <td>    0.572</td> <td>    2.059</td> <td> 0.039</td> <td>    0.057</td> <td>    2.300</td>\n",
       "</tr>\n",
       "<tr>\n",
       "  <th>VAR136</th> <td>    0.3396</td> <td>    0.629</td> <td>    0.540</td> <td> 0.589</td> <td>   -0.893</td> <td>    1.572</td>\n",
       "</tr>\n",
       "<tr>\n",
       "  <th>VAR137</th> <td>  -15.2117</td> <td>   10.730</td> <td>   -1.418</td> <td> 0.156</td> <td>  -36.241</td> <td>    5.818</td>\n",
       "</tr>\n",
       "<tr>\n",
       "  <th>VAR138</th> <td>    0.4089</td> <td>    0.157</td> <td>    2.609</td> <td> 0.009</td> <td>    0.102</td> <td>    0.716</td>\n",
       "</tr>\n",
       "<tr>\n",
       "  <th>VAR139</th> <td>   18.2064</td> <td>    8.588</td> <td>    2.120</td> <td> 0.034</td> <td>    1.374</td> <td>   35.039</td>\n",
       "</tr>\n",
       "<tr>\n",
       "  <th>VAR140</th> <td>   -9.7173</td> <td>    8.143</td> <td>   -1.193</td> <td> 0.233</td> <td>  -25.678</td> <td>    6.243</td>\n",
       "</tr>\n",
       "<tr>\n",
       "  <th>VAR141</th> <td>    4.5951</td> <td>    2.326</td> <td>    1.975</td> <td> 0.048</td> <td>    0.035</td> <td>    9.155</td>\n",
       "</tr>\n",
       "<tr>\n",
       "  <th>VAR142</th> <td>    0.3372</td> <td>    0.843</td> <td>    0.400</td> <td> 0.689</td> <td>   -1.315</td> <td>    1.989</td>\n",
       "</tr>\n",
       "<tr>\n",
       "  <th>VAR143</th> <td>   23.5986</td> <td>  2.4e+05</td> <td> 9.81e-05</td> <td> 1.000</td> <td>-4.71e+05</td> <td> 4.71e+05</td>\n",
       "</tr>\n",
       "<tr>\n",
       "  <th>VAR144</th> <td>    0.1260</td> <td>    0.197</td> <td>    0.638</td> <td> 0.523</td> <td>   -0.261</td> <td>    0.513</td>\n",
       "</tr>\n",
       "<tr>\n",
       "  <th>VAR145</th> <td>   22.8384</td> <td>  2.4e+05</td> <td>  9.5e-05</td> <td> 1.000</td> <td>-4.71e+05</td> <td> 4.71e+05</td>\n",
       "</tr>\n",
       "<tr>\n",
       "  <th>VAR146</th> <td>    0.1358</td> <td>    0.575</td> <td>    0.236</td> <td> 0.813</td> <td>   -0.992</td> <td>    1.264</td>\n",
       "</tr>\n",
       "<tr>\n",
       "  <th>VAR147</th> <td>    0.7966</td> <td>    5.007</td> <td>    0.159</td> <td> 0.874</td> <td>   -9.018</td> <td>   10.611</td>\n",
       "</tr>\n",
       "<tr>\n",
       "  <th>VAR148</th> <td>   22.7230</td> <td>  2.4e+05</td> <td> 9.45e-05</td> <td> 1.000</td> <td>-4.71e+05</td> <td> 4.71e+05</td>\n",
       "</tr>\n",
       "<tr>\n",
       "  <th>VAR149</th> <td>   -0.1203</td> <td>    1.359</td> <td>   -0.089</td> <td> 0.929</td> <td>   -2.783</td> <td>    2.543</td>\n",
       "</tr>\n",
       "<tr>\n",
       "  <th>VAR150</th> <td>   14.1856</td> <td>   10.110</td> <td>    1.403</td> <td> 0.161</td> <td>   -5.629</td> <td>   34.000</td>\n",
       "</tr>\n",
       "<tr>\n",
       "  <th>VAR151</th> <td>   -0.1136</td> <td>    0.582</td> <td>   -0.195</td> <td> 0.845</td> <td>   -1.254</td> <td>    1.026</td>\n",
       "</tr>\n",
       "<tr>\n",
       "  <th>VAR152</th> <td>  -10.4329</td> <td>   11.115</td> <td>   -0.939</td> <td> 0.348</td> <td>  -32.218</td> <td>   11.352</td>\n",
       "</tr>\n",
       "<tr>\n",
       "  <th>VAR153</th> <td>   -9.8224</td> <td>    3.598</td> <td>   -2.730</td> <td> 0.006</td> <td>  -16.874</td> <td>   -2.771</td>\n",
       "</tr>\n",
       "<tr>\n",
       "  <th>VAR154</th> <td>    0.3142</td> <td>    6.949</td> <td>    0.045</td> <td> 0.964</td> <td>  -13.306</td> <td>   13.934</td>\n",
       "</tr>\n",
       "<tr>\n",
       "  <th>VAR155</th> <td>   -0.7868</td> <td>    1.012</td> <td>   -0.778</td> <td> 0.437</td> <td>   -2.770</td> <td>    1.196</td>\n",
       "</tr>\n",
       "<tr>\n",
       "  <th>VAR156</th> <td>    4.7599</td> <td>    2.994</td> <td>    1.590</td> <td> 0.112</td> <td>   -1.109</td> <td>   10.629</td>\n",
       "</tr>\n",
       "<tr>\n",
       "  <th>VAR157</th> <td>    6.0828</td> <td>    3.344</td> <td>    1.819</td> <td> 0.069</td> <td>   -0.471</td> <td>   12.637</td>\n",
       "</tr>\n",
       "<tr>\n",
       "  <th>VAR158</th> <td>  -12.4125</td> <td>    8.774</td> <td>   -1.415</td> <td> 0.157</td> <td>  -29.608</td> <td>    4.783</td>\n",
       "</tr>\n",
       "<tr>\n",
       "  <th>VAR159</th> <td>    5.3018</td> <td>    5.113</td> <td>    1.037</td> <td> 0.300</td> <td>   -4.719</td> <td>   15.322</td>\n",
       "</tr>\n",
       "<tr>\n",
       "  <th>VAR160</th> <td>   23.9337</td> <td>   13.671</td> <td>    1.751</td> <td> 0.080</td> <td>   -2.861</td> <td>   50.728</td>\n",
       "</tr>\n",
       "<tr>\n",
       "  <th>VAR161</th> <td>  -21.1311</td> <td>    9.254</td> <td>   -2.283</td> <td> 0.022</td> <td>  -39.269</td> <td>   -2.993</td>\n",
       "</tr>\n",
       "<tr>\n",
       "  <th>VAR162</th> <td>  -19.3908</td> <td>   10.256</td> <td>   -1.891</td> <td> 0.059</td> <td>  -39.493</td> <td>    0.711</td>\n",
       "</tr>\n",
       "<tr>\n",
       "  <th>VAR163</th> <td>    1.9055</td> <td>    0.579</td> <td>    3.290</td> <td> 0.001</td> <td>    0.770</td> <td>    3.041</td>\n",
       "</tr>\n",
       "<tr>\n",
       "  <th>VAR164</th> <td>  -22.7077</td> <td>    9.541</td> <td>   -2.380</td> <td> 0.017</td> <td>  -41.408</td> <td>   -4.007</td>\n",
       "</tr>\n",
       "<tr>\n",
       "  <th>VAR165</th> <td>    0.2003</td> <td>    0.342</td> <td>    0.585</td> <td> 0.558</td> <td>   -0.470</td> <td>    0.871</td>\n",
       "</tr>\n",
       "<tr>\n",
       "  <th>VAR166</th> <td>    1.0126</td> <td>    1.394</td> <td>    0.727</td> <td> 0.467</td> <td>   -1.719</td> <td>    3.744</td>\n",
       "</tr>\n",
       "<tr>\n",
       "  <th>VAR167</th> <td>   -0.2327</td> <td>    0.395</td> <td>   -0.589</td> <td> 0.556</td> <td>   -1.007</td> <td>    0.541</td>\n",
       "</tr>\n",
       "<tr>\n",
       "  <th>VAR168</th> <td>  -44.4738</td> <td>   14.585</td> <td>   -3.049</td> <td> 0.002</td> <td>  -73.060</td> <td>  -15.887</td>\n",
       "</tr>\n",
       "<tr>\n",
       "  <th>VAR169</th> <td>    2.3928</td> <td>    2.322</td> <td>    1.031</td> <td> 0.303</td> <td>   -2.158</td> <td>    6.943</td>\n",
       "</tr>\n",
       "<tr>\n",
       "  <th>VAR170</th> <td>   -4.3355</td> <td>    1.780</td> <td>   -2.436</td> <td> 0.015</td> <td>   -7.824</td> <td>   -0.847</td>\n",
       "</tr>\n",
       "<tr>\n",
       "  <th>VAR171</th> <td>    0.0773</td> <td>    0.141</td> <td>    0.547</td> <td> 0.584</td> <td>   -0.200</td> <td>    0.354</td>\n",
       "</tr>\n",
       "<tr>\n",
       "  <th>VAR172</th> <td>    0.1669</td> <td>    3.442</td> <td>    0.048</td> <td> 0.961</td> <td>   -6.579</td> <td>    6.913</td>\n",
       "</tr>\n",
       "<tr>\n",
       "  <th>VAR173</th> <td>   -1.9993</td> <td>    0.965</td> <td>   -2.072</td> <td> 0.038</td> <td>   -3.890</td> <td>   -0.109</td>\n",
       "</tr>\n",
       "<tr>\n",
       "  <th>VAR174</th> <td>   -4.4005</td> <td>    2.924</td> <td>   -1.505</td> <td> 0.132</td> <td>  -10.132</td> <td>    1.331</td>\n",
       "</tr>\n",
       "<tr>\n",
       "  <th>VAR175</th> <td>   -0.3015</td> <td>    1.646</td> <td>   -0.183</td> <td> 0.855</td> <td>   -3.528</td> <td>    2.925</td>\n",
       "</tr>\n",
       "<tr>\n",
       "  <th>VAR176</th> <td>   -6.1752</td> <td>   15.232</td> <td>   -0.405</td> <td> 0.685</td> <td>  -36.029</td> <td>   23.678</td>\n",
       "</tr>\n",
       "<tr>\n",
       "  <th>VAR177</th> <td>   22.4491</td> <td>  2.4e+05</td> <td> 9.34e-05</td> <td> 1.000</td> <td>-4.71e+05</td> <td> 4.71e+05</td>\n",
       "</tr>\n",
       "<tr>\n",
       "  <th>VAR179</th> <td>   -3.4339</td> <td>      nan</td> <td>      nan</td> <td>   nan</td> <td>      nan</td> <td>      nan</td>\n",
       "</tr>\n",
       "<tr>\n",
       "  <th>VAR180</th> <td>    0.5633</td> <td>    0.596</td> <td>    0.945</td> <td> 0.345</td> <td>   -0.605</td> <td>    1.731</td>\n",
       "</tr>\n",
       "<tr>\n",
       "  <th>VAR181</th> <td>   -0.0180</td> <td>    0.529</td> <td>   -0.034</td> <td> 0.973</td> <td>   -1.056</td> <td>    1.020</td>\n",
       "</tr>\n",
       "<tr>\n",
       "  <th>VAR182</th> <td>   -2.8557</td> <td>    1.287</td> <td>   -2.219</td> <td> 0.026</td> <td>   -5.378</td> <td>   -0.334</td>\n",
       "</tr>\n",
       "<tr>\n",
       "  <th>VAR183</th> <td>    0.3088</td> <td>    1.116</td> <td>    0.277</td> <td> 0.782</td> <td>   -1.879</td> <td>    2.497</td>\n",
       "</tr>\n",
       "<tr>\n",
       "  <th>VAR184</th> <td>   -3.0247</td> <td>    4.020</td> <td>   -0.752</td> <td> 0.452</td> <td>  -10.903</td> <td>    4.854</td>\n",
       "</tr>\n",
       "<tr>\n",
       "  <th>VAR185</th> <td>  -15.2712</td> <td>    6.101</td> <td>   -2.503</td> <td> 0.012</td> <td>  -27.229</td> <td>   -3.313</td>\n",
       "</tr>\n",
       "<tr>\n",
       "  <th>VAR186</th> <td>  -25.2937</td> <td>   12.466</td> <td>   -2.029</td> <td> 0.042</td> <td>  -49.727</td> <td>   -0.860</td>\n",
       "</tr>\n",
       "<tr>\n",
       "  <th>VAR187</th> <td>    3.1488</td> <td>    2.036</td> <td>    1.547</td> <td> 0.122</td> <td>   -0.841</td> <td>    7.139</td>\n",
       "</tr>\n",
       "<tr>\n",
       "  <th>VAR188</th> <td>    1.7783</td> <td>    1.454</td> <td>    1.223</td> <td> 0.221</td> <td>   -1.071</td> <td>    4.628</td>\n",
       "</tr>\n",
       "<tr>\n",
       "  <th>VAR189</th> <td>  -21.2455</td> <td>    8.567</td> <td>   -2.480</td> <td> 0.013</td> <td>  -38.037</td> <td>   -4.454</td>\n",
       "</tr>\n",
       "<tr>\n",
       "  <th>VAR190</th> <td>   -1.7354</td> <td>    4.905</td> <td>   -0.354</td> <td> 0.723</td> <td>  -11.350</td> <td>    7.879</td>\n",
       "</tr>\n",
       "<tr>\n",
       "  <th>VAR191</th> <td>    1.3574</td> <td>    6.794</td> <td>    0.200</td> <td> 0.842</td> <td>  -11.959</td> <td>   14.673</td>\n",
       "</tr>\n",
       "<tr>\n",
       "  <th>VAR192</th> <td>   -0.5939</td> <td>    0.215</td> <td>   -2.762</td> <td> 0.006</td> <td>   -1.015</td> <td>   -0.172</td>\n",
       "</tr>\n",
       "<tr>\n",
       "  <th>VAR193</th> <td>    0.1182</td> <td>    0.602</td> <td>    0.196</td> <td> 0.844</td> <td>   -1.061</td> <td>    1.297</td>\n",
       "</tr>\n",
       "<tr>\n",
       "  <th>VAR194</th> <td>    0.8963</td> <td>    0.615</td> <td>    1.458</td> <td> 0.145</td> <td>   -0.308</td> <td>    2.101</td>\n",
       "</tr>\n",
       "<tr>\n",
       "  <th>VAR195</th> <td>    0.2866</td> <td>    0.567</td> <td>    0.506</td> <td> 0.613</td> <td>   -0.824</td> <td>    1.397</td>\n",
       "</tr>\n",
       "<tr>\n",
       "  <th>VAR196</th> <td>   -4.3748</td> <td>    7.895</td> <td>   -0.554</td> <td> 0.580</td> <td>  -19.849</td> <td>   11.100</td>\n",
       "</tr>\n",
       "<tr>\n",
       "  <th>VAR197</th> <td>   -0.0654</td> <td>    0.648</td> <td>   -0.101</td> <td> 0.920</td> <td>   -1.335</td> <td>    1.204</td>\n",
       "</tr>\n",
       "<tr>\n",
       "  <th>VAR198</th> <td>  -13.0783</td> <td>    7.849</td> <td>   -1.666</td> <td> 0.096</td> <td>  -28.462</td> <td>    2.305</td>\n",
       "</tr>\n",
       "<tr>\n",
       "  <th>VAR199</th> <td>   -3.3635</td> <td>  1.7e+06</td> <td>-1.97e-06</td> <td> 1.000</td> <td>-3.34e+06</td> <td> 3.34e+06</td>\n",
       "</tr>\n",
       "<tr>\n",
       "  <th>VAR200</th> <td>   -5.9996</td> <td>    2.579</td> <td>   -2.327</td> <td> 0.020</td> <td>  -11.054</td> <td>   -0.945</td>\n",
       "</tr>\n",
       "<tr>\n",
       "  <th>VAR201</th> <td>    0.3656</td> <td>    0.749</td> <td>    0.488</td> <td> 0.625</td> <td>   -1.102</td> <td>    1.833</td>\n",
       "</tr>\n",
       "<tr>\n",
       "  <th>VAR202</th> <td>  -10.8035</td> <td>    8.616</td> <td>   -1.254</td> <td> 0.210</td> <td>  -27.690</td> <td>    6.083</td>\n",
       "</tr>\n",
       "<tr>\n",
       "  <th>VAR203</th> <td>  -14.9998</td> <td>   13.251</td> <td>   -1.132</td> <td> 0.258</td> <td>  -40.972</td> <td>   10.972</td>\n",
       "</tr>\n",
       "<tr>\n",
       "  <th>VAR204</th> <td>  -27.0484</td> <td>   11.798</td> <td>   -2.293</td> <td> 0.022</td> <td>  -50.172</td> <td>   -3.924</td>\n",
       "</tr>\n",
       "<tr>\n",
       "  <th>VAR205</th> <td>   -3.7066</td> <td>    1.560</td> <td>   -2.377</td> <td> 0.017</td> <td>   -6.763</td> <td>   -0.650</td>\n",
       "</tr>\n",
       "<tr>\n",
       "  <th>VAR206</th> <td>   -0.1225</td> <td>    0.569</td> <td>   -0.215</td> <td> 0.830</td> <td>   -1.237</td> <td>    0.992</td>\n",
       "</tr>\n",
       "<tr>\n",
       "  <th>VAR207</th> <td>    1.5679</td> <td>    0.602</td> <td>    2.605</td> <td> 0.009</td> <td>    0.388</td> <td>    2.748</td>\n",
       "</tr>\n",
       "<tr>\n",
       "  <th>VAR208</th> <td>   22.9813</td> <td>  2.4e+05</td> <td> 9.56e-05</td> <td> 1.000</td> <td>-4.71e+05</td> <td> 4.71e+05</td>\n",
       "</tr>\n",
       "<tr>\n",
       "  <th>VAR209</th> <td>   -1.7734</td> <td>    1.987</td> <td>   -0.893</td> <td> 0.372</td> <td>   -5.668</td> <td>    2.121</td>\n",
       "</tr>\n",
       "<tr>\n",
       "  <th>VAR210</th> <td>    4.7103</td> <td>    1.734</td> <td>    2.717</td> <td> 0.007</td> <td>    1.312</td> <td>    8.108</td>\n",
       "</tr>\n",
       "<tr>\n",
       "  <th>VAR211</th> <td>    4.2895</td> <td>    2.430</td> <td>    1.766</td> <td> 0.077</td> <td>   -0.472</td> <td>    9.051</td>\n",
       "</tr>\n",
       "<tr>\n",
       "  <th>VAR212</th> <td>    0.9765</td> <td>    0.802</td> <td>    1.217</td> <td> 0.223</td> <td>   -0.596</td> <td>    2.549</td>\n",
       "</tr>\n",
       "<tr>\n",
       "  <th>VAR213</th> <td>    0.1388</td> <td>    0.643</td> <td>    0.216</td> <td> 0.829</td> <td>   -1.121</td> <td>    1.398</td>\n",
       "</tr>\n",
       "<tr>\n",
       "  <th>VAR214</th> <td>   -7.2776</td> <td>    2.966</td> <td>   -2.454</td> <td> 0.014</td> <td>  -13.090</td> <td>   -1.465</td>\n",
       "</tr>\n",
       "<tr>\n",
       "  <th>VAR215</th> <td>    2.0118</td> <td>    2.843</td> <td>    0.708</td> <td> 0.479</td> <td>   -3.561</td> <td>    7.584</td>\n",
       "</tr>\n",
       "<tr>\n",
       "  <th>VAR216</th> <td>  -19.7233</td> <td>   23.255</td> <td>   -0.848</td> <td> 0.396</td> <td>  -65.303</td> <td>   25.856</td>\n",
       "</tr>\n",
       "<tr>\n",
       "  <th>VAR217</th> <td>   25.9107</td> <td>   12.692</td> <td>    2.042</td> <td> 0.041</td> <td>    1.035</td> <td>   50.786</td>\n",
       "</tr>\n",
       "<tr>\n",
       "  <th>VAR218</th> <td>    5.8188</td> <td>    4.138</td> <td>    1.406</td> <td> 0.160</td> <td>   -2.292</td> <td>   13.930</td>\n",
       "</tr>\n",
       "<tr>\n",
       "  <th>VAR219</th> <td>   -4.9014</td> <td>    2.778</td> <td>   -1.764</td> <td> 0.078</td> <td>  -10.346</td> <td>    0.543</td>\n",
       "</tr>\n",
       "<tr>\n",
       "  <th>VAR220</th> <td>    0.9652</td> <td>    0.619</td> <td>    1.559</td> <td> 0.119</td> <td>   -0.248</td> <td>    2.178</td>\n",
       "</tr>\n",
       "<tr>\n",
       "  <th>VAR221</th> <td>    0.4092</td> <td>    0.677</td> <td>    0.604</td> <td> 0.546</td> <td>   -0.918</td> <td>    1.736</td>\n",
       "</tr>\n",
       "<tr>\n",
       "  <th>VAR222</th> <td>   -4.9540</td> <td>    3.651</td> <td>   -1.357</td> <td> 0.175</td> <td>  -12.110</td> <td>    2.202</td>\n",
       "</tr>\n",
       "<tr>\n",
       "  <th>VAR223</th> <td>    0.0403</td> <td>    0.695</td> <td>    0.058</td> <td> 0.954</td> <td>   -1.321</td> <td>    1.402</td>\n",
       "</tr>\n",
       "<tr>\n",
       "  <th>VAR224</th> <td>    0.3415</td> <td>    0.894</td> <td>    0.382</td> <td> 0.703</td> <td>   -1.411</td> <td>    2.094</td>\n",
       "</tr>\n",
       "<tr>\n",
       "  <th>VAR225</th> <td>    0.4738</td> <td>    0.549</td> <td>    0.864</td> <td> 0.388</td> <td>   -0.602</td> <td>    1.549</td>\n",
       "</tr>\n",
       "<tr>\n",
       "  <th>VAR226</th> <td>    5.3774</td> <td>    2.017</td> <td>    2.666</td> <td> 0.008</td> <td>    1.425</td> <td>    9.330</td>\n",
       "</tr>\n",
       "<tr>\n",
       "  <th>VAR227</th> <td>    1.5047</td> <td>    6.019</td> <td>    0.250</td> <td> 0.803</td> <td>  -10.292</td> <td>   13.301</td>\n",
       "</tr>\n",
       "<tr>\n",
       "  <th>const</th>  <td>  -18.1864</td> <td>      nan</td> <td>      nan</td> <td>   nan</td> <td>      nan</td> <td>      nan</td>\n",
       "</tr>\n",
       "<tr>\n",
       "  <th>var178</th> <td>   -0.2448</td> <td>    0.177</td> <td>   -1.385</td> <td> 0.166</td> <td>   -0.591</td> <td>    0.102</td>\n",
       "</tr>\n",
       "</table>"
      ],
      "text/plain": [
       "<class 'statsmodels.iolib.summary.Summary'>\n",
       "\"\"\"\n",
       "                           Logit Regression Results                           \n",
       "==============================================================================\n",
       "Dep. Variable:              MRC_ID_DI   No. Observations:                 7086\n",
       "Model:                          Logit   Df Residuals:                     6861\n",
       "Method:                           MLE   Df Model:                          224\n",
       "Date:                Sun, 03 Jan 2021   Pseudo R-squ.:                  0.4009\n",
       "Time:                        23:57:39   Log-Likelihood:                -2066.6\n",
       "converged:                      False   LL-Null:                       -3449.2\n",
       "Covariance Type:            nonrobust   LLR p-value:                     0.000\n",
       "==============================================================================\n",
       "                 coef    std err          z      P>|z|      [0.025      0.975]\n",
       "------------------------------------------------------------------------------\n",
       "VAR002         0.9805      0.863      1.136      0.256      -0.711       2.672\n",
       "VAR003        -1.3099      0.255     -5.133      0.000      -1.810      -0.810\n",
       "VAR004        -6.8278      4.186     -1.631      0.103     -15.032       1.377\n",
       "VAR005        -0.5489      0.793     -0.692      0.489      -2.103       1.005\n",
       "VAR006        -6.0795      4.581     -1.327      0.184     -15.059       2.899\n",
       "VAR007        -4.1644        nan        nan        nan         nan         nan\n",
       "VAR008         0.0314      0.145      0.216      0.829      -0.253       0.315\n",
       "VAR009        10.7495      3.798      2.830      0.005       3.306      18.193\n",
       "VAR010         0.4786      0.209      2.287      0.022       0.068       0.889\n",
       "VAR011        21.3952      7.653      2.796      0.005       6.395      36.395\n",
       "VAR012       -10.6301     12.677     -0.839      0.402     -35.476      14.216\n",
       "VAR013        -9.6184      8.952     -1.074      0.283     -27.165       7.928\n",
       "VAR014        11.8766     12.224      0.972      0.331     -12.081      35.834\n",
       "VAR015        -0.0264      0.109     -0.243      0.808      -0.239       0.187\n",
       "VAR016         0.4083      0.343      1.189      0.234      -0.265       1.081\n",
       "VAR017        -0.3969      0.364     -1.089      0.276      -1.111       0.317\n",
       "VAR018        -3.8054        nan        nan        nan         nan         nan\n",
       "VAR019        -2.3234      2.360     -0.984      0.325      -6.949       2.302\n",
       "VAR020        -0.1065      0.730     -0.146      0.884      -1.537       1.324\n",
       "VAR021        -0.6516      3.108     -0.210      0.834      -6.744       5.441\n",
       "VAR022        -9.1762      6.006     -1.528      0.127     -20.947       2.595\n",
       "VAR023         0.5575      0.630      0.886      0.376      -0.676       1.791\n",
       "VAR024       -23.9447      9.827     -2.437      0.015     -43.206      -4.683\n",
       "VAR025         3.0605      2.837      1.079      0.281      -2.500       8.621\n",
       "VAR026         0.3359      0.301      1.116      0.265      -0.254       0.926\n",
       "VAR027        12.7854      6.842      1.869      0.062      -0.624      26.194\n",
       "VAR028        -8.2900      8.727     -0.950      0.342     -25.394       8.814\n",
       "VAR029        -3.3883      2.424     -1.398      0.162      -8.139       1.362\n",
       "VAR030        -0.3684      0.684     -0.539      0.590      -1.709       0.972\n",
       "VAR031         0.2546      0.216      1.179      0.238      -0.169       0.678\n",
       "VAR032        21.5431     13.056      1.650      0.099      -4.046      47.132\n",
       "VAR033         1.0529      0.771      1.366      0.172      -0.458       2.564\n",
       "VAR034        -7.1137      3.553     -2.002      0.045     -14.078      -0.150\n",
       "VAR035       -13.1516      4.729     -2.781      0.005     -22.420      -3.883\n",
       "VAR036         0.1145      0.166      0.688      0.491      -0.212       0.441\n",
       "VAR037        -4.8779      2.239     -2.179      0.029      -9.266      -0.490\n",
       "VAR038        -6.9008      5.840     -1.182      0.237     -18.347       4.545\n",
       "VAR039       -16.3386     12.215     -1.338      0.181     -40.280       7.603\n",
       "VAR040         2.9889      1.628      1.836      0.066      -0.202       6.180\n",
       "VAR041        31.6206      9.311      3.396      0.001      13.372      49.869\n",
       "VAR042         1.0893      0.660      1.651      0.099      -0.204       2.383\n",
       "VAR043        -1.2646      2.387     -0.530      0.596      -5.943       3.414\n",
       "VAR044         0.1922      0.565      0.340      0.734      -0.914       1.299\n",
       "VAR045        -1.4806      0.867     -1.709      0.088      -3.179       0.218\n",
       "VAR046         9.5476      3.015      3.167      0.002       3.638      15.457\n",
       "VAR047         9.0952      3.565      2.551      0.011       2.108      16.083\n",
       "VAR048         4.6182      7.332      0.630      0.529      -9.752      18.988\n",
       "VAR049         3.5957      4.123      0.872      0.383      -4.485      11.677\n",
       "VAR050         3.4670      3.005      1.154      0.249      -2.423       9.357\n",
       "VAR051         1.1179      3.877      0.288      0.773      -6.480       8.716\n",
       "VAR052        -1.4835     14.079     -0.105      0.916     -29.077      26.110\n",
       "VAR053        24.4722      7.868      3.110      0.002       9.051      39.894\n",
       "VAR054         2.9817      7.905      0.377      0.706     -12.512      18.476\n",
       "VAR055        -7.4252      8.963     -0.828      0.407     -24.991      10.141\n",
       "VAR056        -3.6191      2.598     -1.393      0.164      -8.711       1.473\n",
       "VAR057        -7.2312     10.850     -0.666      0.505     -28.497      14.035\n",
       "VAR058        -5.5794      7.672     -0.727      0.467     -20.617       9.458\n",
       "VAR059        -3.4966        nan        nan        nan         nan         nan\n",
       "VAR060        44.4833     19.606      2.269      0.023       6.056      82.910\n",
       "VAR061        18.9104      8.493      2.226      0.026       2.264      35.557\n",
       "VAR062         0.1248      0.249      0.500      0.617      -0.364       0.614\n",
       "VAR063        10.2519      5.011      2.046      0.041       0.430      20.074\n",
       "VAR064        -5.4441      2.185     -2.492      0.013      -9.726      -1.162\n",
       "VAR065         0.8384      0.676      1.240      0.215      -0.487       2.164\n",
       "VAR066        -0.0202      0.104     -0.194      0.846      -0.224       0.183\n",
       "VAR067         0.3076      0.144      2.133      0.033       0.025       0.590\n",
       "VAR068         1.9271      7.781      0.248      0.804     -13.324      17.178\n",
       "VAR069        -5.9979      5.313     -1.129      0.259     -16.411       4.415\n",
       "VAR070        -0.2497      0.136     -1.831      0.067      -0.517       0.018\n",
       "VAR071        23.1115    2.4e+05   9.61e-05      1.000   -4.71e+05    4.71e+05\n",
       "VAR072        -1.1143      1.035     -1.076      0.282      -3.144       0.915\n",
       "VAR073        -5.8983     11.009     -0.536      0.592     -27.475      15.678\n",
       "VAR074        -1.6455      0.850     -1.936      0.053      -3.311       0.020\n",
       "VAR075         3.3720      2.075      1.625      0.104      -0.696       7.440\n",
       "VAR076       -33.2752     18.145     -1.834      0.067     -68.838       2.288\n",
       "VAR077        22.6946    2.4e+05   9.44e-05      1.000   -4.71e+05    4.71e+05\n",
       "VAR078        -0.3564      0.245     -1.458      0.145      -0.836       0.123\n",
       "VAR079       -15.8424      7.377     -2.147      0.032     -30.302      -1.383\n",
       "VAR080        -1.5592      2.062     -0.756      0.450      -5.601       2.483\n",
       "VAR081         0.6829      2.213      0.309      0.758      -3.654       5.020\n",
       "VAR082         2.3300      1.344      1.733      0.083      -0.305       4.965\n",
       "VAR083        -1.0773      0.756     -1.425      0.154      -2.559       0.405\n",
       "VAR084         0.5352      0.383      1.398      0.162      -0.215       1.285\n",
       "VAR085        13.0340      7.959      1.638      0.101      -2.565      28.633\n",
       "VAR086         0.4756      0.989      0.481      0.631      -1.464       2.415\n",
       "VAR087        -9.4043     10.572     -0.890      0.374     -30.124      11.315\n",
       "VAR088         0.3527      0.787      0.448      0.654      -1.191       1.896\n",
       "VAR089       -16.1214      9.834     -1.639      0.101     -35.396       3.153\n",
       "VAR090         0.0715      0.162      0.442      0.659      -0.246       0.389\n",
       "VAR091       -31.2327     11.735     -2.662      0.008     -54.232      -8.233\n",
       "VAR092       -17.1996      7.120     -2.416      0.016     -31.155      -3.245\n",
       "VAR093       -13.1838      3.786     -3.482      0.000     -20.605      -5.763\n",
       "VAR094        23.8607    2.4e+05   9.92e-05      1.000   -4.71e+05    4.71e+05\n",
       "VAR095        -4.1679     14.107     -0.295      0.768     -31.817      23.481\n",
       "VAR096        23.1051    2.4e+05   9.61e-05      1.000   -4.71e+05    4.71e+05\n",
       "VAR097        -3.8480    1.7e+06  -2.26e-06      1.000   -3.34e+06    3.34e+06\n",
       "VAR098        23.5314    2.4e+05   9.79e-05      1.000   -4.71e+05    4.71e+05\n",
       "VAR099         0.4943      0.586      0.843      0.399      -0.654       1.643\n",
       "VAR100         0.4954      0.600      0.826      0.409      -0.681       1.672\n",
       "VAR101         1.2801      0.725      1.767      0.077      -0.140       2.700\n",
       "VAR102         1.1719      0.615      1.905      0.057      -0.034       2.378\n",
       "VAR103        -0.3646      0.243     -1.503      0.133      -0.840       0.111\n",
       "VAR104         7.9931      2.098      3.809      0.000       3.880      12.106\n",
       "VAR105        -0.0039      0.516     -0.008      0.994      -1.014       1.006\n",
       "VAR106         0.2531      3.249      0.078      0.938      -6.114       6.620\n",
       "VAR107        -2.9757    1.7e+06  -1.75e-06      1.000   -3.34e+06    3.34e+06\n",
       "VAR108         1.0793      0.573      1.883      0.060      -0.044       2.203\n",
       "VAR109         0.1061      1.922      0.055      0.956      -3.661       3.873\n",
       "VAR110        -0.9532      0.624     -1.526      0.127      -2.177       0.271\n",
       "VAR111        -3.2861        nan        nan        nan         nan         nan\n",
       "VAR112         0.6505      0.598      1.088      0.277      -0.521       1.822\n",
       "VAR113         0.4710      0.914      0.515      0.607      -1.321       2.263\n",
       "VAR114       -46.7929     13.084     -3.576      0.000     -72.437     -21.149\n",
       "VAR115         4.9330      2.274      2.170      0.030       0.477       9.389\n",
       "VAR116         1.1783      8.785      0.134      0.893     -16.040      18.397\n",
       "VAR117        -0.3665      0.326     -1.126      0.260      -1.005       0.272\n",
       "VAR118        -3.7728      5.300     -0.712      0.477     -14.161       6.615\n",
       "VAR119       -20.7899     17.345     -1.199      0.231     -54.786      13.206\n",
       "VAR120        -2.2659      8.065     -0.281      0.779     -18.072      13.540\n",
       "VAR121        -0.3907     11.247     -0.035      0.972     -22.435      21.653\n",
       "VAR122        -3.0145      4.036     -0.747      0.455     -10.925       4.896\n",
       "VAR123       -13.5015     14.786     -0.913      0.361     -42.482      15.479\n",
       "VAR124        -4.0153    1.7e+06  -2.36e-06      1.000   -3.34e+06    3.34e+06\n",
       "VAR125         0.8666      5.764      0.150      0.880     -10.430      12.163\n",
       "VAR126         1.6936      2.242      0.755      0.450      -2.700       6.088\n",
       "VAR127        -3.9839    1.7e+06  -2.34e-06      1.000   -3.34e+06    3.34e+06\n",
       "VAR128       -11.2762      6.867     -1.642      0.101     -24.735       2.182\n",
       "VAR129         1.2851      0.536      2.398      0.017       0.235       2.336\n",
       "VAR130         2.1346      1.457      1.465      0.143      -0.721       4.991\n",
       "VAR131        -0.5354      0.683     -0.784      0.433      -1.873       0.802\n",
       "VAR132         0.7477      0.643      1.163      0.245      -0.513       2.008\n",
       "VAR133        -1.5468      2.663     -0.581      0.561      -6.766       3.672\n",
       "VAR134        -5.9612      6.168     -0.966      0.334     -18.051       6.129\n",
       "VAR135         1.1786      0.572      2.059      0.039       0.057       2.300\n",
       "VAR136         0.3396      0.629      0.540      0.589      -0.893       1.572\n",
       "VAR137       -15.2117     10.730     -1.418      0.156     -36.241       5.818\n",
       "VAR138         0.4089      0.157      2.609      0.009       0.102       0.716\n",
       "VAR139        18.2064      8.588      2.120      0.034       1.374      35.039\n",
       "VAR140        -9.7173      8.143     -1.193      0.233     -25.678       6.243\n",
       "VAR141         4.5951      2.326      1.975      0.048       0.035       9.155\n",
       "VAR142         0.3372      0.843      0.400      0.689      -1.315       1.989\n",
       "VAR143        23.5986    2.4e+05   9.81e-05      1.000   -4.71e+05    4.71e+05\n",
       "VAR144         0.1260      0.197      0.638      0.523      -0.261       0.513\n",
       "VAR145        22.8384    2.4e+05    9.5e-05      1.000   -4.71e+05    4.71e+05\n",
       "VAR146         0.1358      0.575      0.236      0.813      -0.992       1.264\n",
       "VAR147         0.7966      5.007      0.159      0.874      -9.018      10.611\n",
       "VAR148        22.7230    2.4e+05   9.45e-05      1.000   -4.71e+05    4.71e+05\n",
       "VAR149        -0.1203      1.359     -0.089      0.929      -2.783       2.543\n",
       "VAR150        14.1856     10.110      1.403      0.161      -5.629      34.000\n",
       "VAR151        -0.1136      0.582     -0.195      0.845      -1.254       1.026\n",
       "VAR152       -10.4329     11.115     -0.939      0.348     -32.218      11.352\n",
       "VAR153        -9.8224      3.598     -2.730      0.006     -16.874      -2.771\n",
       "VAR154         0.3142      6.949      0.045      0.964     -13.306      13.934\n",
       "VAR155        -0.7868      1.012     -0.778      0.437      -2.770       1.196\n",
       "VAR156         4.7599      2.994      1.590      0.112      -1.109      10.629\n",
       "VAR157         6.0828      3.344      1.819      0.069      -0.471      12.637\n",
       "VAR158       -12.4125      8.774     -1.415      0.157     -29.608       4.783\n",
       "VAR159         5.3018      5.113      1.037      0.300      -4.719      15.322\n",
       "VAR160        23.9337     13.671      1.751      0.080      -2.861      50.728\n",
       "VAR161       -21.1311      9.254     -2.283      0.022     -39.269      -2.993\n",
       "VAR162       -19.3908     10.256     -1.891      0.059     -39.493       0.711\n",
       "VAR163         1.9055      0.579      3.290      0.001       0.770       3.041\n",
       "VAR164       -22.7077      9.541     -2.380      0.017     -41.408      -4.007\n",
       "VAR165         0.2003      0.342      0.585      0.558      -0.470       0.871\n",
       "VAR166         1.0126      1.394      0.727      0.467      -1.719       3.744\n",
       "VAR167        -0.2327      0.395     -0.589      0.556      -1.007       0.541\n",
       "VAR168       -44.4738     14.585     -3.049      0.002     -73.060     -15.887\n",
       "VAR169         2.3928      2.322      1.031      0.303      -2.158       6.943\n",
       "VAR170        -4.3355      1.780     -2.436      0.015      -7.824      -0.847\n",
       "VAR171         0.0773      0.141      0.547      0.584      -0.200       0.354\n",
       "VAR172         0.1669      3.442      0.048      0.961      -6.579       6.913\n",
       "VAR173        -1.9993      0.965     -2.072      0.038      -3.890      -0.109\n",
       "VAR174        -4.4005      2.924     -1.505      0.132     -10.132       1.331\n",
       "VAR175        -0.3015      1.646     -0.183      0.855      -3.528       2.925\n",
       "VAR176        -6.1752     15.232     -0.405      0.685     -36.029      23.678\n",
       "VAR177        22.4491    2.4e+05   9.34e-05      1.000   -4.71e+05    4.71e+05\n",
       "VAR179        -3.4339        nan        nan        nan         nan         nan\n",
       "VAR180         0.5633      0.596      0.945      0.345      -0.605       1.731\n",
       "VAR181        -0.0180      0.529     -0.034      0.973      -1.056       1.020\n",
       "VAR182        -2.8557      1.287     -2.219      0.026      -5.378      -0.334\n",
       "VAR183         0.3088      1.116      0.277      0.782      -1.879       2.497\n",
       "VAR184        -3.0247      4.020     -0.752      0.452     -10.903       4.854\n",
       "VAR185       -15.2712      6.101     -2.503      0.012     -27.229      -3.313\n",
       "VAR186       -25.2937     12.466     -2.029      0.042     -49.727      -0.860\n",
       "VAR187         3.1488      2.036      1.547      0.122      -0.841       7.139\n",
       "VAR188         1.7783      1.454      1.223      0.221      -1.071       4.628\n",
       "VAR189       -21.2455      8.567     -2.480      0.013     -38.037      -4.454\n",
       "VAR190        -1.7354      4.905     -0.354      0.723     -11.350       7.879\n",
       "VAR191         1.3574      6.794      0.200      0.842     -11.959      14.673\n",
       "VAR192        -0.5939      0.215     -2.762      0.006      -1.015      -0.172\n",
       "VAR193         0.1182      0.602      0.196      0.844      -1.061       1.297\n",
       "VAR194         0.8963      0.615      1.458      0.145      -0.308       2.101\n",
       "VAR195         0.2866      0.567      0.506      0.613      -0.824       1.397\n",
       "VAR196        -4.3748      7.895     -0.554      0.580     -19.849      11.100\n",
       "VAR197        -0.0654      0.648     -0.101      0.920      -1.335       1.204\n",
       "VAR198       -13.0783      7.849     -1.666      0.096     -28.462       2.305\n",
       "VAR199        -3.3635    1.7e+06  -1.97e-06      1.000   -3.34e+06    3.34e+06\n",
       "VAR200        -5.9996      2.579     -2.327      0.020     -11.054      -0.945\n",
       "VAR201         0.3656      0.749      0.488      0.625      -1.102       1.833\n",
       "VAR202       -10.8035      8.616     -1.254      0.210     -27.690       6.083\n",
       "VAR203       -14.9998     13.251     -1.132      0.258     -40.972      10.972\n",
       "VAR204       -27.0484     11.798     -2.293      0.022     -50.172      -3.924\n",
       "VAR205        -3.7066      1.560     -2.377      0.017      -6.763      -0.650\n",
       "VAR206        -0.1225      0.569     -0.215      0.830      -1.237       0.992\n",
       "VAR207         1.5679      0.602      2.605      0.009       0.388       2.748\n",
       "VAR208        22.9813    2.4e+05   9.56e-05      1.000   -4.71e+05    4.71e+05\n",
       "VAR209        -1.7734      1.987     -0.893      0.372      -5.668       2.121\n",
       "VAR210         4.7103      1.734      2.717      0.007       1.312       8.108\n",
       "VAR211         4.2895      2.430      1.766      0.077      -0.472       9.051\n",
       "VAR212         0.9765      0.802      1.217      0.223      -0.596       2.549\n",
       "VAR213         0.1388      0.643      0.216      0.829      -1.121       1.398\n",
       "VAR214        -7.2776      2.966     -2.454      0.014     -13.090      -1.465\n",
       "VAR215         2.0118      2.843      0.708      0.479      -3.561       7.584\n",
       "VAR216       -19.7233     23.255     -0.848      0.396     -65.303      25.856\n",
       "VAR217        25.9107     12.692      2.042      0.041       1.035      50.786\n",
       "VAR218         5.8188      4.138      1.406      0.160      -2.292      13.930\n",
       "VAR219        -4.9014      2.778     -1.764      0.078     -10.346       0.543\n",
       "VAR220         0.9652      0.619      1.559      0.119      -0.248       2.178\n",
       "VAR221         0.4092      0.677      0.604      0.546      -0.918       1.736\n",
       "VAR222        -4.9540      3.651     -1.357      0.175     -12.110       2.202\n",
       "VAR223         0.0403      0.695      0.058      0.954      -1.321       1.402\n",
       "VAR224         0.3415      0.894      0.382      0.703      -1.411       2.094\n",
       "VAR225         0.4738      0.549      0.864      0.388      -0.602       1.549\n",
       "VAR226         5.3774      2.017      2.666      0.008       1.425       9.330\n",
       "VAR227         1.5047      6.019      0.250      0.803     -10.292      13.301\n",
       "const        -18.1864        nan        nan        nan         nan         nan\n",
       "var178        -0.2448      0.177     -1.385      0.166      -0.591       0.102\n",
       "==============================================================================\n",
       "\"\"\""
      ]
     },
     "execution_count": 13,
     "metadata": {},
     "output_type": "execute_result"
    }
   ],
   "source": [
    "results.summary()"
   ]
  },
  {
   "cell_type": "code",
   "execution_count": 14,
   "metadata": {
    "ExecuteTime": {
     "end_time": "2021-01-03T14:57:39.522922Z",
     "start_time": "2021-01-03T14:57:39.515933Z"
    }
   },
   "outputs": [
    {
     "data": {
      "text/plain": [
       "VAR002     0.980517\n",
       "VAR003    -1.309911\n",
       "VAR004    -6.827814\n",
       "VAR005    -0.548888\n",
       "VAR006    -6.079519\n",
       "            ...    \n",
       "VAR225     0.473799\n",
       "VAR226     5.377448\n",
       "VAR227     1.504665\n",
       "const    -18.186383\n",
       "var178    -0.244796\n",
       "Length: 227, dtype: float64"
      ]
     },
     "execution_count": 14,
     "metadata": {},
     "output_type": "execute_result"
    }
   ],
   "source": [
    "results.params"
   ]
  },
  {
   "cell_type": "code",
   "execution_count": 15,
   "metadata": {
    "ExecuteTime": {
     "end_time": "2021-01-03T14:57:39.532922Z",
     "start_time": "2021-01-03T14:57:39.525907Z"
    }
   },
   "outputs": [
    {
     "data": {
      "text/plain": [
       "VAR002    2.665835e+00\n",
       "VAR003    2.698440e-01\n",
       "VAR004    1.083223e-03\n",
       "VAR005    5.775918e-01\n",
       "VAR006    2.289277e-03\n",
       "              ...     \n",
       "VAR225    1.606084e+00\n",
       "VAR226    2.164692e+02\n",
       "VAR227    4.502644e+00\n",
       "const     1.264020e-08\n",
       "var178    7.828640e-01\n",
       "Length: 227, dtype: float64"
      ]
     },
     "execution_count": 15,
     "metadata": {},
     "output_type": "execute_result"
    }
   ],
   "source": [
    "np.exp(results.params)"
   ]
  },
  {
   "cell_type": "code",
   "execution_count": 16,
   "metadata": {
    "ExecuteTime": {
     "end_time": "2021-01-03T14:57:39.538874Z",
     "start_time": "2021-01-03T14:57:39.533885Z"
    }
   },
   "outputs": [
    {
     "data": {
      "text/plain": [
       "4583.163643056004"
      ]
     },
     "execution_count": 16,
     "metadata": {},
     "output_type": "execute_result"
    }
   ],
   "source": [
    "results.aic"
   ]
  },
  {
   "cell_type": "code",
   "execution_count": 17,
   "metadata": {
    "ExecuteTime": {
     "end_time": "2021-01-03T14:57:39.553861Z",
     "start_time": "2021-01-03T14:57:39.541865Z"
    }
   },
   "outputs": [
    {
     "data": {
      "text/plain": [
       "9979    0.003627\n",
       "8301    0.105099\n",
       "61      0.034226\n",
       "7445    0.251389\n",
       "6053    0.146680\n",
       "          ...   \n",
       "7109    0.174107\n",
       "3353    0.051505\n",
       "1638    0.000974\n",
       "2232    0.001769\n",
       "3726    0.545691\n",
       "Length: 3038, dtype: float64"
      ]
     },
     "execution_count": 17,
     "metadata": {},
     "output_type": "execute_result"
    }
   ],
   "source": [
    "y_pred = results.predict(x_test)\n",
    "y_pred"
   ]
  },
  {
   "cell_type": "code",
   "execution_count": 18,
   "metadata": {
    "ExecuteTime": {
     "end_time": "2021-01-03T14:57:39.584239Z",
     "start_time": "2021-01-03T14:57:39.555828Z"
    }
   },
   "outputs": [
    {
     "data": {
      "text/plain": [
       "9979    0\n",
       "8301    0\n",
       "61      0\n",
       "7445    0\n",
       "6053    0\n",
       "       ..\n",
       "7109    0\n",
       "3353    0\n",
       "1638    0\n",
       "2232    0\n",
       "3726    1\n",
       "Length: 3038, dtype: int32"
      ]
     },
     "execution_count": 18,
     "metadata": {},
     "output_type": "execute_result"
    }
   ],
   "source": [
    "def PRED(y, threshold):\n",
    "    Y = y.copy()\n",
    "    Y[Y > threshold] = 1\n",
    "    Y[Y <= threshold] = 0\n",
    "    return(Y.astype(int))\n",
    "\n",
    "Y_pred = PRED(y_pred,0.5)\n",
    "Y_pred"
   ]
  },
  {
   "cell_type": "markdown",
   "metadata": {},
   "source": [
    "### 오분류표"
   ]
  },
  {
   "cell_type": "code",
   "execution_count": 19,
   "metadata": {
    "ExecuteTime": {
     "end_time": "2021-01-03T14:57:39.597188Z",
     "start_time": "2021-01-03T14:57:39.586205Z"
    }
   },
   "outputs": [
    {
     "data": {
      "text/plain": [
       "0.863"
      ]
     },
     "execution_count": 19,
     "metadata": {},
     "output_type": "execute_result"
    }
   ],
   "source": [
    "cfmat = confusion_matrix(y_test, Y_pred)\n",
    "def acc(cfmat) :\n",
    "    acc = round((cfmat[0,0]+cfmat[1,1])/np.sum(cfmat),3)\n",
    "    return(acc)\n",
    "acc(cfmat) # accuracy == 0.863"
   ]
  },
  {
   "cell_type": "code",
   "execution_count": 20,
   "metadata": {
    "ExecuteTime": {
     "end_time": "2021-01-03T14:57:39.808613Z",
     "start_time": "2021-01-03T14:57:39.599170Z"
    }
   },
   "outputs": [
    {
     "data": {
      "text/plain": [
       "PCA(n_components=10)"
      ]
     },
     "execution_count": 20,
     "metadata": {},
     "output_type": "execute_result"
    }
   ],
   "source": [
    "pca = PCA(n_components = 10)\n",
    "pca.fit(X)"
   ]
  },
  {
   "cell_type": "code",
   "execution_count": 21,
   "metadata": {
    "ExecuteTime": {
     "end_time": "2021-01-03T14:57:39.867453Z",
     "start_time": "2021-01-03T14:57:39.810607Z"
    }
   },
   "outputs": [
    {
     "data": {
      "text/plain": [
       "array([[ 1.61103191, -1.45895951, -0.44078694,  1.29724981,  1.17403704],\n",
       "       [ 3.54174898,  1.15224818,  0.7469527 , -0.85289188, -0.40329333],\n",
       "       [-3.78703665, -0.37374512, -0.21618028,  0.31804936, -0.61817319],\n",
       "       ...,\n",
       "       [-2.87352597, -0.84465271, -0.17578321,  0.26242906,  0.08292944],\n",
       "       [-0.43867668,  1.0350786 , -0.55228081,  0.81873279,  0.47765846],\n",
       "       [ 1.1862562 ,  1.43135874,  0.39301448,  1.11786852, -0.66617698]])"
      ]
     },
     "execution_count": 21,
     "metadata": {},
     "output_type": "execute_result"
    }
   ],
   "source": [
    "PCscore = pca.transform(X)\n",
    "PCscore[:,0:5]"
   ]
  },
  {
   "cell_type": "code",
   "execution_count": 22,
   "metadata": {
    "ExecuteTime": {
     "end_time": "2021-01-03T14:57:39.880418Z",
     "start_time": "2021-01-03T14:57:39.871443Z"
    }
   },
   "outputs": [
    {
     "data": {
      "text/plain": [
       "array([[-0.00645011, -0.01336264, -0.00585211, ..., -0.00231741,\n",
       "         0.00839386,  0.00209844],\n",
       "       [-0.07538312, -0.00673262,  0.09174189, ...,  0.02052027,\n",
       "        -0.05080887, -0.02225895],\n",
       "       [-0.06162282,  0.01177409,  0.08814912, ...,  0.04172166,\n",
       "        -0.03779308,  0.01155979],\n",
       "       ...,\n",
       "       [-0.06701067, -0.11211265, -0.05761715, ..., -0.00532823,\n",
       "        -0.0143025 ,  0.01228668],\n",
       "       [ 0.        ,  0.        , -0.        , ..., -0.        ,\n",
       "         0.        ,  0.        ],\n",
       "       [ 0.02302927, -0.00977995, -0.01282632, ...,  0.00451662,\n",
       "        -0.00997172,  0.07577906]])"
      ]
     },
     "execution_count": 22,
     "metadata": {},
     "output_type": "execute_result"
    }
   ],
   "source": [
    "eigens_vector = pca.components_.transpose()\n",
    "eigens_vector"
   ]
  },
  {
   "cell_type": "code",
   "execution_count": 23,
   "metadata": {
    "ExecuteTime": {
     "end_time": "2021-01-03T14:57:39.924307Z",
     "start_time": "2021-01-03T14:57:39.883411Z"
    }
   },
   "outputs": [
    {
     "data": {
      "text/plain": [
       "matrix([[ 7.51186718e-01, -1.11353314e+00, -1.18945931e+00,\n",
       "          1.70116307e+00,  6.88935474e-01],\n",
       "        [ 2.68190379e+00,  1.49767454e+00, -1.71966325e-03,\n",
       "         -4.48978629e-01, -8.88394896e-01],\n",
       "        [-4.64688184e+00, -2.83187550e-02, -9.64852644e-01,\n",
       "          7.21962617e-01, -1.10327476e+00],\n",
       "        ...,\n",
       "        [-3.73337116e+00, -4.99226347e-01, -9.24455580e-01,\n",
       "          6.66342309e-01, -4.02172130e-01],\n",
       "        [-1.29852187e+00,  1.38050497e+00, -1.30095318e+00,\n",
       "          1.22264605e+00, -7.44311111e-03],\n",
       "        [ 3.26411008e-01,  1.77678510e+00, -3.55657889e-01,\n",
       "          1.52178178e+00, -1.15127855e+00]])"
      ]
     },
     "execution_count": 23,
     "metadata": {},
     "output_type": "execute_result"
    }
   ],
   "source": [
    "mX = np.matrix(X)\n",
    "\n",
    "(mX * eigens_vector)[:, 0:5]"
   ]
  },
  {
   "cell_type": "code",
   "execution_count": 24,
   "metadata": {
    "ExecuteTime": {
     "end_time": "2021-01-03T14:57:40.387168Z",
     "start_time": "2021-01-03T14:57:39.928292Z"
    }
   },
   "outputs": [
    {
     "name": "stdout",
     "output_type": "stream",
     "text": [
      "[[ 1.61103191e+00 -1.45895951e+00 -4.40786943e-01 ...  8.52287762e-04\n",
      "   1.89081785e-01 -6.40097046e-01]\n",
      " [ 3.54174898e+00  1.15224818e+00  7.46952702e-01 ... -2.68145965e-01\n",
      "  -1.49428537e-01  2.65574438e-01]\n",
      " [-3.78703665e+00 -3.73745119e-01 -2.16180278e-01 ...  8.10442739e-01\n",
      "   1.69611923e-01 -4.40500977e-01]\n",
      " ...\n",
      " [-2.87352597e+00 -8.44652710e-01 -1.75783214e-01 ...  6.53136636e-01\n",
      "  -2.35177156e-02  1.15749831e-01]\n",
      " [-4.38676679e-01  1.03507860e+00 -5.52280811e-01 ... -8.07275377e-01\n",
      "  -3.57757194e-01 -6.19247226e-01]\n",
      " [ 1.18625620e+00  1.43135874e+00  3.93014477e-01 ...  5.35498698e-02\n",
      "   4.33353083e-01 -1.85729608e-01]]\n",
      "[ 1.61103191  3.54174898 -3.78703665 ... -2.87352597 -0.43867668\n",
      "  1.1862562 ]\n"
     ]
    },
    {
     "data": {
      "image/png": "[encoded data removed]",
      "text/plain": [
       "<Figure size 432x288 with 1 Axes>"
      ]
     },
     "metadata": {
      "needs_background": "light"
     },
     "output_type": "display_data"
    }
   ],
   "source": [
    "print(PCscore)\n",
    "plt.scatter(PCscore[:, 0], PCscore[:, 1], c = y)\n",
    "print(PCscore[:,0])\n",
    "plt.show()"
   ]
  },
  {
   "cell_type": "code",
   "execution_count": 25,
   "metadata": {
    "ExecuteTime": {
     "end_time": "2021-01-03T14:58:00.349871Z",
     "start_time": "2021-01-03T14:57:40.389136Z"
    }
   },
   "outputs": [
    {
     "data": {
      "image/png": "[encoded data removed]",
      "text/plain": [
       "<Figure size 432x288 with 1 Axes>"
      ]
     },
     "metadata": {
      "needs_background": "light"
     },
     "output_type": "display_data"
    }
   ],
   "source": [
    "distortions = []\n",
    "\n",
    "for i in range(1, 11) :\n",
    "    km = KMeans(n_clusters = i, random_state = 102)\n",
    "    km.fit(X)\n",
    "    distortions.append(km.inertia_)\n",
    "\n",
    "plt.plot(range(1, 11), distortions, marker = 'o')\n",
    "plt.xlabel(\"# of clusters\")\n",
    "plt.ylabel(\"Distortion\")\n",
    "plt.show()"
   ]
  },
  {
   "cell_type": "code",
   "execution_count": 26,
   "metadata": {
    "ExecuteTime": {
     "end_time": "2021-01-03T14:58:01.630964Z",
     "start_time": "2021-01-03T14:58:00.351832Z"
    }
   },
   "outputs": [
    {
     "name": "stdout",
     "output_type": "stream",
     "text": [
      "0.8610928242264648\n",
      "0.13890717577353523\n"
     ]
    }
   ],
   "source": [
    "lr_clf = LogisticRegression(max_iter = 10000)\n",
    "lr_clf.fit(x_train, y_train)\n",
    "\n",
    "pred_lr = lr_clf.predict(x_test)\n",
    "print(accuracy_score(y_test, pred_lr))\n",
    "print(mean_squared_error(y_test, pred_lr))"
   ]
  },
  {
   "cell_type": "code",
   "execution_count": 27,
   "metadata": {
    "ExecuteTime": {
     "end_time": "2021-01-03T14:58:07.375840Z",
     "start_time": "2021-01-03T14:58:01.632951Z"
    }
   },
   "outputs": [
    {
     "name": "stderr",
     "output_type": "stream",
     "text": [
      "[Parallel(n_jobs=1)]: Using backend SequentialBackend with 1 concurrent workers.\n",
      "[Parallel(n_jobs=1)]: Done   1 out of   1 | elapsed:    5.6s finished\n",
      "[Parallel(n_jobs=1)]: Using backend SequentialBackend with 1 concurrent workers.\n",
      "[Parallel(n_jobs=1)]: Done   1 out of   1 | elapsed:    0.0s finished\n"
     ]
    },
    {
     "data": {
      "text/plain": [
       "array([0, 0, 0, ..., 0, 0, 0], dtype=int64)"
      ]
     },
     "execution_count": 27,
     "metadata": {},
     "output_type": "execute_result"
    }
   ],
   "source": [
    "bag_clf = BaggingClassifier(base_estimator = lr_clf,\n",
    "                           n_estimators = 5,\n",
    "                           verbose = 1)\n",
    "lr_clf_bag = bag_clf.fit(x_train, y_train)\n",
    "pred_lr_bag = lr_clf_bag.predict(x_test)\n",
    "pred_lr_bag"
   ]
  },
  {
   "cell_type": "code",
   "execution_count": 28,
   "metadata": {
    "ExecuteTime": {
     "end_time": "2021-01-03T14:58:07.383823Z",
     "start_time": "2021-01-03T14:58:07.377836Z"
    }
   },
   "outputs": [
    {
     "name": "stdout",
     "output_type": "stream",
     "text": [
      "0.8554970375246873\n",
      "0.14450296247531272\n"
     ]
    }
   ],
   "source": [
    "print(accuracy_score(y_test, pred_lr_bag))\n",
    "print(mean_squared_error(y_test, pred_lr_bag))"
   ]
  },
  {
   "cell_type": "code",
   "execution_count": 29,
   "metadata": {
    "ExecuteTime": {
     "end_time": "2021-01-03T14:58:09.876952Z",
     "start_time": "2021-01-03T14:58:07.385814Z"
    }
   },
   "outputs": [
    {
     "name": "stdout",
     "output_type": "stream",
     "text": [
      "0.7643186306780777\n",
      "0.23568136932192232\n"
     ]
    }
   ],
   "source": [
    "from sklearn.tree import DecisionTreeClassifier\n",
    "\n",
    "dt_clf = DecisionTreeClassifier()\n",
    "dt_clf.fit(x_train, y_train)\n",
    "pred_dt = dt_clf.predict(x_test)\n",
    "\n",
    "print(accuracy_score(y_test, pred_dt))\n",
    "print(mean_squared_error(y_test, pred_dt))"
   ]
  },
  {
   "cell_type": "code",
   "execution_count": 30,
   "metadata": {
    "ExecuteTime": {
     "end_time": "2021-01-03T14:58:10.044537Z",
     "start_time": "2021-01-03T14:58:09.878944Z"
    }
   },
   "outputs": [
    {
     "name": "stdout",
     "output_type": "stream",
     "text": [
      "0.8209348255431205\n"
     ]
    },
    {
     "name": "stderr",
     "output_type": "stream",
     "text": [
      "[Parallel(n_jobs=1)]: Using backend SequentialBackend with 1 concurrent workers.\n",
      "[Parallel(n_jobs=1)]: Done   5 out of   5 | elapsed:    0.0s finished\n",
      "[Parallel(n_jobs=1)]: Using backend SequentialBackend with 1 concurrent workers.\n",
      "[Parallel(n_jobs=1)]: Done   5 out of   5 | elapsed:    0.0s finished\n"
     ]
    }
   ],
   "source": [
    "rf_clf = RandomForestClassifier(n_estimators = 5, \n",
    "                                max_depth = 3,\n",
    "                               random_state = 103, \n",
    "                               verbose = 1)\n",
    "rf_clf.fit(x_train, y_train)\n",
    "pred = rf_clf.predict(x_test)\n",
    "print(accuracy_score(y_test, pred))"
   ]
  },
  {
   "cell_type": "code",
   "execution_count": 31,
   "metadata": {
    "ExecuteTime": {
     "end_time": "2021-01-03T14:58:21.259440Z",
     "start_time": "2021-01-03T14:58:10.046495Z"
    }
   },
   "outputs": [
    {
     "name": "stderr",
     "output_type": "stream",
     "text": [
      "[Parallel(n_jobs=1)]: Using backend SequentialBackend with 1 concurrent workers.\n",
      "[Parallel(n_jobs=1)]: Done 500 out of 500 | elapsed:   10.6s finished\n",
      "[Parallel(n_jobs=1)]: Using backend SequentialBackend with 1 concurrent workers.\n",
      "[Parallel(n_jobs=1)]: Done 500 out of 500 | elapsed:    0.1s finished\n"
     ]
    },
    {
     "name": "stdout",
     "output_type": "stream",
     "text": [
      "0.815668202764977\n"
     ]
    }
   ],
   "source": [
    "rf_clf = RandomForestClassifier(n_estimators = 500, \n",
    "                                max_depth = 3,\n",
    "                               random_state = 103, \n",
    "                               verbose = 1)\n",
    "rf_clf.fit(x_train, y_train)\n",
    "pred = rf_clf.predict(x_test)\n",
    "print(accuracy_score(y_test, pred))"
   ]
  },
  {
   "cell_type": "code",
   "execution_count": 32,
   "metadata": {
    "ExecuteTime": {
     "end_time": "2021-01-03T14:58:52.255345Z",
     "start_time": "2021-01-03T14:58:21.262431Z"
    }
   },
   "outputs": [
    {
     "name": "stderr",
     "output_type": "stream",
     "text": [
      "[Parallel(n_jobs=1)]: Using backend SequentialBackend with 1 concurrent workers.\n",
      "[Parallel(n_jobs=1)]: Done 500 out of 500 | elapsed:   30.3s finished\n",
      "[Parallel(n_jobs=1)]: Using backend SequentialBackend with 1 concurrent workers.\n"
     ]
    },
    {
     "name": "stdout",
     "output_type": "stream",
     "text": [
      "0.8423304805793285\n"
     ]
    },
    {
     "name": "stderr",
     "output_type": "stream",
     "text": [
      "[Parallel(n_jobs=1)]: Done 500 out of 500 | elapsed:    0.1s finished\n"
     ]
    }
   ],
   "source": [
    "rf_clf = RandomForestClassifier(n_estimators = 500, \n",
    "                                max_depth = 10,\n",
    "                               random_state = 103, \n",
    "                               verbose = 1)\n",
    "rf_clf.fit(x_train, y_train)\n",
    "pred = rf_clf.predict(x_test)\n",
    "print(accuracy_score(y_test, pred))"
   ]
  },
  {
   "cell_type": "code",
   "execution_count": 33,
   "metadata": {
    "ExecuteTime": {
     "end_time": "2021-01-03T14:58:52.260329Z",
     "start_time": "2021-01-03T14:58:52.256310Z"
    }
   },
   "outputs": [],
   "source": [
    "rf_clf4 = RandomForestClassifier()"
   ]
  },
  {
   "cell_type": "code",
   "execution_count": 34,
   "metadata": {
    "ExecuteTime": {
     "end_time": "2021-01-03T15:04:34.993378Z",
     "start_time": "2021-01-03T14:58:52.261297Z"
    }
   },
   "outputs": [
    {
     "name": "stderr",
     "output_type": "stream",
     "text": [
      "[Parallel(n_jobs=-1)]: Using backend LokyBackend with 8 concurrent workers.\n"
     ]
    },
    {
     "name": "stdout",
     "output_type": "stream",
     "text": [
      "Fitting 5 folds for each of 16 candidates, totalling 80 fits\n"
     ]
    },
    {
     "name": "stderr",
     "output_type": "stream",
     "text": [
      "[Parallel(n_jobs=-1)]: Done  34 tasks      | elapsed:  1.2min\n",
      "[Parallel(n_jobs=-1)]: Done  80 out of  80 | elapsed:  5.4min finished\n",
      "[Parallel(n_jobs=-1)]: Using backend ThreadingBackend with 8 concurrent workers.\n",
      "[Parallel(n_jobs=-1)]: Done  34 tasks      | elapsed:    0.5s\n",
      "[Parallel(n_jobs=-1)]: Done 184 tasks      | elapsed:    3.0s\n",
      "[Parallel(n_jobs=-1)]: Done 434 tasks      | elapsed:    6.9s\n",
      "[Parallel(n_jobs=-1)]: Done 784 tasks      | elapsed:   12.0s\n"
     ]
    },
    {
     "name": "stdout",
     "output_type": "stream",
     "text": [
      "최적 하이퍼 파라미터:  {'max_depth': 10, 'n_estimators': 1000}\n",
      "최고 예측 정확도: 0.8281\n"
     ]
    },
    {
     "name": "stderr",
     "output_type": "stream",
     "text": [
      "[Parallel(n_jobs=-1)]: Done 1000 out of 1000 | elapsed:   15.2s finished\n"
     ]
    }
   ],
   "source": [
    "params = { 'n_estimators' : [10, 100, 500, 1000],\n",
    "           'max_depth' : [3, 5, 10, 15]}\n",
    "\n",
    "rf_clf4 = RandomForestClassifier(random_state = 103, \n",
    "                                n_jobs = -1,\n",
    "                                verbose = 1)\n",
    "grid_cv = GridSearchCV(rf_clf4,\n",
    "                      param_grid = params,\n",
    "                      n_jobs = -1,\n",
    "                      verbose = 1)\n",
    "grid_cv.fit(x_train, y_train)\n",
    "\n",
    "print('최적 하이퍼 파라미터: ', grid_cv.best_params_)\n",
    "print('최고 예측 정확도: {:.4f}'.format(grid_cv.best_score_))"
   ]
  },
  {
   "cell_type": "code",
   "execution_count": 35,
   "metadata": {
    "ExecuteTime": {
     "end_time": "2021-01-03T15:05:59.321819Z",
     "start_time": "2021-01-03T15:04:34.998367Z"
    }
   },
   "outputs": [
    {
     "name": "stdout",
     "output_type": "stream",
     "text": [
      "k : 1, 정확도 : 0.7662936142198815\n",
      "k : 2, 정확도 : 0.8064516129032258\n",
      "k : 3, 정확도 : 0.7942725477287689\n",
      "k : 4, 정확도 : 0.8117182356813694\n",
      "k : 5, 정확도 : 0.8110599078341014\n",
      "k : 6, 정확도 : 0.8252139565503621\n",
      "k : 7, 정확도 : 0.8271889400921659\n",
      "k : 8, 정확도 : 0.8304805793285056\n",
      "k : 9, 정확도 : 0.8294930875576036\n",
      "k : 10, 정확도 : 0.8334430546412114\n"
     ]
    }
   ],
   "source": [
    "test_acc = []\n",
    "\n",
    "for n in range(1, 11):\n",
    "    clf = KNeighborsClassifier(n_neighbors = n)\n",
    "    clf.fit(x_train, y_train)\n",
    "    y_pred = clf.predict(x_test)\n",
    "    test_acc.append(accuracy_score(y_test, y_pred))\n",
    "    \n",
    "    print(\"k : {}, 정확도 : {}\".format(n, accuracy_score(y_test, y_pred)))"
   ]
  },
  {
   "cell_type": "code",
   "execution_count": 36,
   "metadata": {
    "ExecuteTime": {
     "end_time": "2021-01-03T15:05:59.329818Z",
     "start_time": "2021-01-03T15:05:59.323787Z"
    }
   },
   "outputs": [
    {
     "data": {
      "text/plain": [
       "[0.7662936142198815,\n",
       " 0.8064516129032258,\n",
       " 0.7942725477287689,\n",
       " 0.8117182356813694,\n",
       " 0.8110599078341014,\n",
       " 0.8252139565503621,\n",
       " 0.8271889400921659,\n",
       " 0.8304805793285056,\n",
       " 0.8294930875576036,\n",
       " 0.8334430546412114]"
      ]
     },
     "execution_count": 36,
     "metadata": {},
     "output_type": "execute_result"
    }
   ],
   "source": [
    "test_acc"
   ]
  },
  {
   "cell_type": "code",
   "execution_count": 37,
   "metadata": {
    "ExecuteTime": {
     "end_time": "2021-01-03T15:05:59.523254Z",
     "start_time": "2021-01-03T15:05:59.331766Z"
    }
   },
   "outputs": [
    {
     "data": {
      "image/png": "[encoded data removed]",
      "text/plain": [
       "<Figure size 432x288 with 1 Axes>"
      ]
     },
     "metadata": {
      "needs_background": "light"
     },
     "output_type": "display_data"
    }
   ],
   "source": [
    "plt.figure()\n",
    "plt.plot(range(1, 11), test_acc, label = 'test')\n",
    "plt.xlabel(\"n_neighbors\")\n",
    "plt.ylabel(\"accuracy\")\n",
    "plt.xticks(np.arange(0, 11, step = 1))\n",
    "plt.legend()\n",
    "plt.show()"
   ]
  },
  {
   "cell_type": "code",
   "execution_count": 38,
   "metadata": {
    "ExecuteTime": {
     "end_time": "2021-01-03T15:06:01.578788Z",
     "start_time": "2021-01-03T15:05:59.524251Z"
    }
   },
   "outputs": [
    {
     "name": "stdout",
     "output_type": "stream",
     "text": [
      "[[2333  130]\n",
      " [ 280  295]]\n",
      "0.8650427913100724\n"
     ]
    }
   ],
   "source": [
    "clf_lin = svm.LinearSVC()\n",
    "clf_lin.fit(x_train, y_train)\n",
    "\n",
    "y_pred_lin = clf_lin.predict(x_test)\n",
    "\n",
    "print(confusion_matrix(y_test, y_pred_lin))\n",
    "print(accuracy_score(y_test, y_pred_lin))"
   ]
  },
  {
   "cell_type": "markdown",
   "metadata": {},
   "source": [
    "#### 0(미사용), 1,6,8 Group shaping"
   ]
  },
  {
   "cell_type": "code",
   "execution_count": 54,
   "metadata": {
    "ExecuteTime": {
     "end_time": "2021-01-03T15:09:01.535723Z",
     "start_time": "2021-01-03T15:09:01.506794Z"
    }
   },
   "outputs": [],
   "source": [
    "group0, group1 = data1[data1[\"MRC_ID_DI\"]==0], data1[data1[\"MRC_ID_DI\"]==1]\n",
    "group6, group8 = data1[data1[\"MRC_ID_DI\"]==6], data1[data1[\"MRC_ID_DI\"]==8]"
   ]
  },
  {
   "cell_type": "code",
   "execution_count": 55,
   "metadata": {
    "ExecuteTime": {
     "end_time": "2021-01-03T15:09:02.146092Z",
     "start_time": "2021-01-03T15:09:02.140073Z"
    }
   },
   "outputs": [
    {
     "name": "stdout",
     "output_type": "stream",
     "text": [
      "group0.shape = (8200, 227), group1.shape = (1924, 227), group6.shape = (0, 227), group8.shape = (0, 227)\n"
     ]
    }
   ],
   "source": [
    "print(\"group0.shape = {}, group1.shape = {}, group6.shape = {}, group8.shape = {}\".format(group0.shape, group1.shape,\n",
    "                                                                                          group6.shape, group8.shape))"
   ]
  },
  {
   "cell_type": "code",
   "execution_count": 56,
   "metadata": {
    "ExecuteTime": {
     "end_time": "2021-01-03T15:09:02.990828Z",
     "start_time": "2021-01-03T15:09:02.919020Z"
    }
   },
   "outputs": [],
   "source": [
    "group0, group1, group6, group8 = pd.get_dummies(group0), pd.get_dummies(group1), pd.get_dummies(group6), pd.get_dummies(group8)"
   ]
  },
  {
   "cell_type": "markdown",
   "metadata": {},
   "source": [
    "#### Dummy 변수 생성, group by shape"
   ]
  },
  {
   "cell_type": "code",
   "execution_count": 57,
   "metadata": {
    "ExecuteTime": {
     "end_time": "2021-01-03T15:09:03.977160Z",
     "start_time": "2021-01-03T15:09:03.972200Z"
    }
   },
   "outputs": [
    {
     "name": "stdout",
     "output_type": "stream",
     "text": [
      "group0.shape = (8200, 227), group1.shape = (1924, 227), group6.shape = (0, 227), group8.shape = (0, 227)\n"
     ]
    }
   ],
   "source": [
    "print(\"group0.shape = {}, group1.shape = {}, group6.shape = {}, group8.shape = {}\".format(group0.shape, group1.shape,\n",
    "                                                                                          group6.shape, group8.shape))"
   ]
  },
  {
   "cell_type": "code",
   "execution_count": 63,
   "metadata": {
    "ExecuteTime": {
     "end_time": "2021-01-03T15:09:35.148774Z",
     "start_time": "2021-01-03T15:09:35.099904Z"
    }
   },
   "outputs": [
    {
     "data": {
      "text/html": [
       "<div>\n",
       "<style scoped>\n",
       "    .dataframe tbody tr th:only-of-type {\n",
       "        vertical-align: middle;\n",
       "    }\n",
       "\n",
       "    .dataframe tbody tr th {\n",
       "        vertical-align: top;\n",
       "    }\n",
       "\n",
       "    .dataframe thead th {\n",
       "        text-align: right;\n",
       "    }\n",
       "</style>\n",
       "<table border=\"1\" class=\"dataframe\">\n",
       "  <thead>\n",
       "    <tr style=\"text-align: right;\">\n",
       "      <th></th>\n",
       "      <th>VAR002</th>\n",
       "      <th>VAR003</th>\n",
       "      <th>VAR004</th>\n",
       "      <th>VAR005</th>\n",
       "      <th>VAR006</th>\n",
       "      <th>VAR007</th>\n",
       "      <th>VAR008</th>\n",
       "      <th>VAR009</th>\n",
       "      <th>VAR010</th>\n",
       "      <th>VAR011</th>\n",
       "      <th>...</th>\n",
       "      <th>VAR218</th>\n",
       "      <th>VAR219</th>\n",
       "      <th>VAR220</th>\n",
       "      <th>VAR221</th>\n",
       "      <th>VAR222</th>\n",
       "      <th>VAR223</th>\n",
       "      <th>VAR224</th>\n",
       "      <th>VAR225</th>\n",
       "      <th>VAR226</th>\n",
       "      <th>VAR227</th>\n",
       "    </tr>\n",
       "  </thead>\n",
       "  <tbody>\n",
       "    <tr>\n",
       "      <th>1</th>\n",
       "      <td>-0.06610</td>\n",
       "      <td>0.5280</td>\n",
       "      <td>-0.13607</td>\n",
       "      <td>0.10945</td>\n",
       "      <td>0.06557</td>\n",
       "      <td>0.0</td>\n",
       "      <td>0.7702</td>\n",
       "      <td>-0.18965</td>\n",
       "      <td>0.1981</td>\n",
       "      <td>0.24149</td>\n",
       "      <td>...</td>\n",
       "      <td>-0.32829</td>\n",
       "      <td>0.19113</td>\n",
       "      <td>0.05449</td>\n",
       "      <td>0.09471</td>\n",
       "      <td>0.27091</td>\n",
       "      <td>0.01931</td>\n",
       "      <td>0.02938</td>\n",
       "      <td>0.17105</td>\n",
       "      <td>0.12537</td>\n",
       "      <td>0.22197</td>\n",
       "    </tr>\n",
       "    <tr>\n",
       "      <th>2</th>\n",
       "      <td>-0.01048</td>\n",
       "      <td>0.8360</td>\n",
       "      <td>0.37797</td>\n",
       "      <td>-0.10970</td>\n",
       "      <td>0.52032</td>\n",
       "      <td>1.0</td>\n",
       "      <td>0.3257</td>\n",
       "      <td>0.32632</td>\n",
       "      <td>0.7343</td>\n",
       "      <td>0.73494</td>\n",
       "      <td>...</td>\n",
       "      <td>0.53283</td>\n",
       "      <td>-0.52084</td>\n",
       "      <td>-0.18568</td>\n",
       "      <td>-0.09755</td>\n",
       "      <td>-0.56565</td>\n",
       "      <td>-0.17840</td>\n",
       "      <td>-0.06314</td>\n",
       "      <td>-0.17111</td>\n",
       "      <td>-0.32239</td>\n",
       "      <td>0.33962</td>\n",
       "    </tr>\n",
       "    <tr>\n",
       "      <th>3</th>\n",
       "      <td>-0.10778</td>\n",
       "      <td>0.0810</td>\n",
       "      <td>-0.12917</td>\n",
       "      <td>0.06835</td>\n",
       "      <td>-0.40939</td>\n",
       "      <td>0.0</td>\n",
       "      <td>0.7128</td>\n",
       "      <td>-0.13009</td>\n",
       "      <td>0.7291</td>\n",
       "      <td>-0.39929</td>\n",
       "      <td>...</td>\n",
       "      <td>-0.42328</td>\n",
       "      <td>0.27452</td>\n",
       "      <td>0.04098</td>\n",
       "      <td>0.06074</td>\n",
       "      <td>0.49646</td>\n",
       "      <td>-0.02204</td>\n",
       "      <td>-0.06996</td>\n",
       "      <td>0.01552</td>\n",
       "      <td>0.20518</td>\n",
       "      <td>-0.09952</td>\n",
       "    </tr>\n",
       "    <tr>\n",
       "      <th>4</th>\n",
       "      <td>0.02596</td>\n",
       "      <td>0.2279</td>\n",
       "      <td>0.09658</td>\n",
       "      <td>-0.21836</td>\n",
       "      <td>0.47897</td>\n",
       "      <td>0.0</td>\n",
       "      <td>0.1961</td>\n",
       "      <td>0.39811</td>\n",
       "      <td>0.2458</td>\n",
       "      <td>0.45440</td>\n",
       "      <td>...</td>\n",
       "      <td>0.48697</td>\n",
       "      <td>-0.44143</td>\n",
       "      <td>-0.15050</td>\n",
       "      <td>-0.19061</td>\n",
       "      <td>-0.52859</td>\n",
       "      <td>-0.19092</td>\n",
       "      <td>-0.03939</td>\n",
       "      <td>-0.11918</td>\n",
       "      <td>-0.29188</td>\n",
       "      <td>0.21474</td>\n",
       "    </tr>\n",
       "    <tr>\n",
       "      <th>5</th>\n",
       "      <td>0.03735</td>\n",
       "      <td>0.3486</td>\n",
       "      <td>-0.07106</td>\n",
       "      <td>0.05682</td>\n",
       "      <td>0.51936</td>\n",
       "      <td>1.0</td>\n",
       "      <td>0.6283</td>\n",
       "      <td>-0.11848</td>\n",
       "      <td>0.2781</td>\n",
       "      <td>0.20183</td>\n",
       "      <td>...</td>\n",
       "      <td>0.07424</td>\n",
       "      <td>0.12450</td>\n",
       "      <td>0.09082</td>\n",
       "      <td>0.03790</td>\n",
       "      <td>-0.01301</td>\n",
       "      <td>0.11605</td>\n",
       "      <td>0.41329</td>\n",
       "      <td>0.01658</td>\n",
       "      <td>-0.13191</td>\n",
       "      <td>0.10532</td>\n",
       "    </tr>\n",
       "    <tr>\n",
       "      <th>...</th>\n",
       "      <td>...</td>\n",
       "      <td>...</td>\n",
       "      <td>...</td>\n",
       "      <td>...</td>\n",
       "      <td>...</td>\n",
       "      <td>...</td>\n",
       "      <td>...</td>\n",
       "      <td>...</td>\n",
       "      <td>...</td>\n",
       "      <td>...</td>\n",
       "      <td>...</td>\n",
       "      <td>...</td>\n",
       "      <td>...</td>\n",
       "      <td>...</td>\n",
       "      <td>...</td>\n",
       "      <td>...</td>\n",
       "      <td>...</td>\n",
       "      <td>...</td>\n",
       "      <td>...</td>\n",
       "      <td>...</td>\n",
       "      <td>...</td>\n",
       "    </tr>\n",
       "    <tr>\n",
       "      <th>8196</th>\n",
       "      <td>-0.00925</td>\n",
       "      <td>0.7706</td>\n",
       "      <td>0.25466</td>\n",
       "      <td>-0.19329</td>\n",
       "      <td>0.43215</td>\n",
       "      <td>1.0</td>\n",
       "      <td>0.6892</td>\n",
       "      <td>0.44652</td>\n",
       "      <td>0.3488</td>\n",
       "      <td>0.68210</td>\n",
       "      <td>...</td>\n",
       "      <td>0.52560</td>\n",
       "      <td>-0.42943</td>\n",
       "      <td>-0.13345</td>\n",
       "      <td>-0.16509</td>\n",
       "      <td>-0.57853</td>\n",
       "      <td>-0.16135</td>\n",
       "      <td>-0.09230</td>\n",
       "      <td>-0.05164</td>\n",
       "      <td>-0.14484</td>\n",
       "      <td>0.26366</td>\n",
       "    </tr>\n",
       "    <tr>\n",
       "      <th>8197</th>\n",
       "      <td>-0.03031</td>\n",
       "      <td>0.0143</td>\n",
       "      <td>0.07041</td>\n",
       "      <td>-0.02519</td>\n",
       "      <td>0.58013</td>\n",
       "      <td>0.0</td>\n",
       "      <td>0.0330</td>\n",
       "      <td>0.06676</td>\n",
       "      <td>0.8251</td>\n",
       "      <td>0.68992</td>\n",
       "      <td>...</td>\n",
       "      <td>0.09259</td>\n",
       "      <td>-0.19384</td>\n",
       "      <td>-0.02383</td>\n",
       "      <td>-0.02448</td>\n",
       "      <td>-0.05019</td>\n",
       "      <td>-0.02869</td>\n",
       "      <td>-0.05401</td>\n",
       "      <td>0.01670</td>\n",
       "      <td>-0.15880</td>\n",
       "      <td>0.48301</td>\n",
       "    </tr>\n",
       "    <tr>\n",
       "      <th>8198</th>\n",
       "      <td>-0.05351</td>\n",
       "      <td>0.3121</td>\n",
       "      <td>0.36925</td>\n",
       "      <td>-0.10039</td>\n",
       "      <td>0.51159</td>\n",
       "      <td>0.0</td>\n",
       "      <td>0.2582</td>\n",
       "      <td>0.35016</td>\n",
       "      <td>0.4638</td>\n",
       "      <td>0.68799</td>\n",
       "      <td>...</td>\n",
       "      <td>0.46478</td>\n",
       "      <td>-0.45312</td>\n",
       "      <td>-0.17163</td>\n",
       "      <td>-0.08674</td>\n",
       "      <td>-0.40260</td>\n",
       "      <td>-0.15903</td>\n",
       "      <td>-0.10292</td>\n",
       "      <td>-0.11742</td>\n",
       "      <td>-0.31895</td>\n",
       "      <td>0.40357</td>\n",
       "    </tr>\n",
       "    <tr>\n",
       "      <th>8199</th>\n",
       "      <td>-0.00562</td>\n",
       "      <td>0.2286</td>\n",
       "      <td>0.04581</td>\n",
       "      <td>-0.05390</td>\n",
       "      <td>0.20481</td>\n",
       "      <td>0.0</td>\n",
       "      <td>0.5957</td>\n",
       "      <td>0.11319</td>\n",
       "      <td>0.2527</td>\n",
       "      <td>0.42924</td>\n",
       "      <td>...</td>\n",
       "      <td>0.10340</td>\n",
       "      <td>0.01754</td>\n",
       "      <td>-0.01479</td>\n",
       "      <td>-0.03898</td>\n",
       "      <td>-0.01363</td>\n",
       "      <td>0.06974</td>\n",
       "      <td>-0.03815</td>\n",
       "      <td>-0.04371</td>\n",
       "      <td>0.11433</td>\n",
       "      <td>-0.01931</td>\n",
       "    </tr>\n",
       "    <tr>\n",
       "      <th>8200</th>\n",
       "      <td>-0.06814</td>\n",
       "      <td>0.6968</td>\n",
       "      <td>-0.04318</td>\n",
       "      <td>0.11340</td>\n",
       "      <td>-0.08842</td>\n",
       "      <td>0.0</td>\n",
       "      <td>0.1151</td>\n",
       "      <td>-0.02036</td>\n",
       "      <td>0.8465</td>\n",
       "      <td>0.13615</td>\n",
       "      <td>...</td>\n",
       "      <td>0.00564</td>\n",
       "      <td>0.08257</td>\n",
       "      <td>0.00120</td>\n",
       "      <td>0.08881</td>\n",
       "      <td>0.01272</td>\n",
       "      <td>-0.01391</td>\n",
       "      <td>-0.05940</td>\n",
       "      <td>0.44214</td>\n",
       "      <td>0.22888</td>\n",
       "      <td>-0.09918</td>\n",
       "    </tr>\n",
       "  </tbody>\n",
       "</table>\n",
       "<p>8200 rows × 226 columns</p>\n",
       "</div>"
      ],
      "text/plain": [
       "       VAR002  VAR003   VAR004   VAR005   VAR006  VAR007  VAR008   VAR009  \\\n",
       "1    -0.06610  0.5280 -0.13607  0.10945  0.06557     0.0  0.7702 -0.18965   \n",
       "2    -0.01048  0.8360  0.37797 -0.10970  0.52032     1.0  0.3257  0.32632   \n",
       "3    -0.10778  0.0810 -0.12917  0.06835 -0.40939     0.0  0.7128 -0.13009   \n",
       "4     0.02596  0.2279  0.09658 -0.21836  0.47897     0.0  0.1961  0.39811   \n",
       "5     0.03735  0.3486 -0.07106  0.05682  0.51936     1.0  0.6283 -0.11848   \n",
       "...       ...     ...      ...      ...      ...     ...     ...      ...   \n",
       "8196 -0.00925  0.7706  0.25466 -0.19329  0.43215     1.0  0.6892  0.44652   \n",
       "8197 -0.03031  0.0143  0.07041 -0.02519  0.58013     0.0  0.0330  0.06676   \n",
       "8198 -0.05351  0.3121  0.36925 -0.10039  0.51159     0.0  0.2582  0.35016   \n",
       "8199 -0.00562  0.2286  0.04581 -0.05390  0.20481     0.0  0.5957  0.11319   \n",
       "8200 -0.06814  0.6968 -0.04318  0.11340 -0.08842     0.0  0.1151 -0.02036   \n",
       "\n",
       "      VAR010   VAR011  ...   VAR218   VAR219   VAR220   VAR221   VAR222  \\\n",
       "1     0.1981  0.24149  ... -0.32829  0.19113  0.05449  0.09471  0.27091   \n",
       "2     0.7343  0.73494  ...  0.53283 -0.52084 -0.18568 -0.09755 -0.56565   \n",
       "3     0.7291 -0.39929  ... -0.42328  0.27452  0.04098  0.06074  0.49646   \n",
       "4     0.2458  0.45440  ...  0.48697 -0.44143 -0.15050 -0.19061 -0.52859   \n",
       "5     0.2781  0.20183  ...  0.07424  0.12450  0.09082  0.03790 -0.01301   \n",
       "...      ...      ...  ...      ...      ...      ...      ...      ...   \n",
       "8196  0.3488  0.68210  ...  0.52560 -0.42943 -0.13345 -0.16509 -0.57853   \n",
       "8197  0.8251  0.68992  ...  0.09259 -0.19384 -0.02383 -0.02448 -0.05019   \n",
       "8198  0.4638  0.68799  ...  0.46478 -0.45312 -0.17163 -0.08674 -0.40260   \n",
       "8199  0.2527  0.42924  ...  0.10340  0.01754 -0.01479 -0.03898 -0.01363   \n",
       "8200  0.8465  0.13615  ...  0.00564  0.08257  0.00120  0.08881  0.01272   \n",
       "\n",
       "       VAR223   VAR224   VAR225   VAR226   VAR227  \n",
       "1     0.01931  0.02938  0.17105  0.12537  0.22197  \n",
       "2    -0.17840 -0.06314 -0.17111 -0.32239  0.33962  \n",
       "3    -0.02204 -0.06996  0.01552  0.20518 -0.09952  \n",
       "4    -0.19092 -0.03939 -0.11918 -0.29188  0.21474  \n",
       "5     0.11605  0.41329  0.01658 -0.13191  0.10532  \n",
       "...       ...      ...      ...      ...      ...  \n",
       "8196 -0.16135 -0.09230 -0.05164 -0.14484  0.26366  \n",
       "8197 -0.02869 -0.05401  0.01670 -0.15880  0.48301  \n",
       "8198 -0.15903 -0.10292 -0.11742 -0.31895  0.40357  \n",
       "8199  0.06974 -0.03815 -0.04371  0.11433 -0.01931  \n",
       "8200 -0.01391 -0.05940  0.44214  0.22888 -0.09918  \n",
       "\n",
       "[8200 rows x 226 columns]"
      ]
     },
     "execution_count": 63,
     "metadata": {},
     "output_type": "execute_result"
    }
   ],
   "source": [
    "group0 = group0.T.drop([\"MRC_ID_DI\"]).T\n",
    "group0.index = range(1,len(group0)+1)\n",
    "group0"
   ]
  },
  {
   "cell_type": "code",
   "execution_count": 64,
   "metadata": {
    "ExecuteTime": {
     "end_time": "2021-01-03T15:09:36.523096Z",
     "start_time": "2021-01-03T15:09:35.588596Z"
    }
   },
   "outputs": [
    {
     "data": {
      "text/html": [
       "<div>\n",
       "<style scoped>\n",
       "    .dataframe tbody tr th:only-of-type {\n",
       "        vertical-align: middle;\n",
       "    }\n",
       "\n",
       "    .dataframe tbody tr th {\n",
       "        vertical-align: top;\n",
       "    }\n",
       "\n",
       "    .dataframe thead th {\n",
       "        text-align: right;\n",
       "    }\n",
       "</style>\n",
       "<table border=\"1\" class=\"dataframe\">\n",
       "  <thead>\n",
       "    <tr style=\"text-align: right;\">\n",
       "      <th></th>\n",
       "      <th>VAR002</th>\n",
       "      <th>VAR003</th>\n",
       "      <th>VAR004</th>\n",
       "      <th>VAR005</th>\n",
       "      <th>VAR006</th>\n",
       "      <th>VAR007</th>\n",
       "      <th>VAR008</th>\n",
       "      <th>VAR009</th>\n",
       "      <th>VAR010</th>\n",
       "      <th>VAR011</th>\n",
       "      <th>...</th>\n",
       "      <th>VAR218</th>\n",
       "      <th>VAR219</th>\n",
       "      <th>VAR220</th>\n",
       "      <th>VAR221</th>\n",
       "      <th>VAR222</th>\n",
       "      <th>VAR223</th>\n",
       "      <th>VAR224</th>\n",
       "      <th>VAR225</th>\n",
       "      <th>VAR226</th>\n",
       "      <th>VAR227</th>\n",
       "    </tr>\n",
       "  </thead>\n",
       "  <tbody>\n",
       "    <tr>\n",
       "      <th>VAR002</th>\n",
       "      <td>1.000000</td>\n",
       "      <td>0.044652</td>\n",
       "      <td>0.004806</td>\n",
       "      <td>-0.060189</td>\n",
       "      <td>0.208932</td>\n",
       "      <td>0.053711</td>\n",
       "      <td>-0.062780</td>\n",
       "      <td>0.029872</td>\n",
       "      <td>-0.085507</td>\n",
       "      <td>0.200439</td>\n",
       "      <td>...</td>\n",
       "      <td>0.084411</td>\n",
       "      <td>-0.136724</td>\n",
       "      <td>-0.004800</td>\n",
       "      <td>-0.058497</td>\n",
       "      <td>-0.092455</td>\n",
       "      <td>0.030105</td>\n",
       "      <td>0.550813</td>\n",
       "      <td>-0.024995</td>\n",
       "      <td>-0.178461</td>\n",
       "      <td>0.219723</td>\n",
       "    </tr>\n",
       "    <tr>\n",
       "      <th>VAR003</th>\n",
       "      <td>0.044652</td>\n",
       "      <td>1.000000</td>\n",
       "      <td>0.497817</td>\n",
       "      <td>-0.497156</td>\n",
       "      <td>0.285902</td>\n",
       "      <td>0.158203</td>\n",
       "      <td>0.156713</td>\n",
       "      <td>0.533279</td>\n",
       "      <td>-0.314611</td>\n",
       "      <td>0.310501</td>\n",
       "      <td>...</td>\n",
       "      <td>0.604738</td>\n",
       "      <td>-0.612976</td>\n",
       "      <td>-0.493747</td>\n",
       "      <td>-0.488877</td>\n",
       "      <td>-0.627271</td>\n",
       "      <td>-0.461673</td>\n",
       "      <td>-0.282664</td>\n",
       "      <td>-0.451801</td>\n",
       "      <td>-0.497987</td>\n",
       "      <td>0.275413</td>\n",
       "    </tr>\n",
       "    <tr>\n",
       "      <th>VAR004</th>\n",
       "      <td>0.004806</td>\n",
       "      <td>0.497817</td>\n",
       "      <td>1.000000</td>\n",
       "      <td>-0.790784</td>\n",
       "      <td>0.298176</td>\n",
       "      <td>0.123244</td>\n",
       "      <td>0.131683</td>\n",
       "      <td>0.916816</td>\n",
       "      <td>-0.389185</td>\n",
       "      <td>0.382857</td>\n",
       "      <td>...</td>\n",
       "      <td>0.833252</td>\n",
       "      <td>-0.822089</td>\n",
       "      <td>-0.848843</td>\n",
       "      <td>-0.785641</td>\n",
       "      <td>-0.798878</td>\n",
       "      <td>-0.786375</td>\n",
       "      <td>-0.502426</td>\n",
       "      <td>-0.779706</td>\n",
       "      <td>-0.676380</td>\n",
       "      <td>0.260673</td>\n",
       "    </tr>\n",
       "    <tr>\n",
       "      <th>VAR005</th>\n",
       "      <td>-0.060189</td>\n",
       "      <td>-0.497156</td>\n",
       "      <td>-0.790784</td>\n",
       "      <td>1.000000</td>\n",
       "      <td>-0.358032</td>\n",
       "      <td>-0.184772</td>\n",
       "      <td>-0.091354</td>\n",
       "      <td>-0.898056</td>\n",
       "      <td>0.416773</td>\n",
       "      <td>-0.368503</td>\n",
       "      <td>...</td>\n",
       "      <td>-0.789746</td>\n",
       "      <td>0.773611</td>\n",
       "      <td>0.799385</td>\n",
       "      <td>0.900307</td>\n",
       "      <td>0.787250</td>\n",
       "      <td>0.802329</td>\n",
       "      <td>0.491947</td>\n",
       "      <td>0.664555</td>\n",
       "      <td>0.660575</td>\n",
       "      <td>-0.260098</td>\n",
       "    </tr>\n",
       "    <tr>\n",
       "      <th>VAR006</th>\n",
       "      <td>0.208932</td>\n",
       "      <td>0.285902</td>\n",
       "      <td>0.298176</td>\n",
       "      <td>-0.358032</td>\n",
       "      <td>1.000000</td>\n",
       "      <td>0.290835</td>\n",
       "      <td>-0.059105</td>\n",
       "      <td>0.323057</td>\n",
       "      <td>-0.343731</td>\n",
       "      <td>0.825295</td>\n",
       "      <td>...</td>\n",
       "      <td>0.531624</td>\n",
       "      <td>-0.551147</td>\n",
       "      <td>-0.299156</td>\n",
       "      <td>-0.355602</td>\n",
       "      <td>-0.552869</td>\n",
       "      <td>-0.261564</td>\n",
       "      <td>-0.041771</td>\n",
       "      <td>-0.208996</td>\n",
       "      <td>-0.668634</td>\n",
       "      <td>0.751368</td>\n",
       "    </tr>\n",
       "    <tr>\n",
       "      <th>...</th>\n",
       "      <td>...</td>\n",
       "      <td>...</td>\n",
       "      <td>...</td>\n",
       "      <td>...</td>\n",
       "      <td>...</td>\n",
       "      <td>...</td>\n",
       "      <td>...</td>\n",
       "      <td>...</td>\n",
       "      <td>...</td>\n",
       "      <td>...</td>\n",
       "      <td>...</td>\n",
       "      <td>...</td>\n",
       "      <td>...</td>\n",
       "      <td>...</td>\n",
       "      <td>...</td>\n",
       "      <td>...</td>\n",
       "      <td>...</td>\n",
       "      <td>...</td>\n",
       "      <td>...</td>\n",
       "      <td>...</td>\n",
       "      <td>...</td>\n",
       "    </tr>\n",
       "    <tr>\n",
       "      <th>VAR223</th>\n",
       "      <td>0.030105</td>\n",
       "      <td>-0.461673</td>\n",
       "      <td>-0.786375</td>\n",
       "      <td>0.802329</td>\n",
       "      <td>-0.261564</td>\n",
       "      <td>-0.153139</td>\n",
       "      <td>-0.105344</td>\n",
       "      <td>-0.867366</td>\n",
       "      <td>0.387216</td>\n",
       "      <td>-0.326644</td>\n",
       "      <td>...</td>\n",
       "      <td>-0.732189</td>\n",
       "      <td>0.728193</td>\n",
       "      <td>0.863036</td>\n",
       "      <td>0.802136</td>\n",
       "      <td>0.731038</td>\n",
       "      <td>1.000000</td>\n",
       "      <td>0.524589</td>\n",
       "      <td>0.689995</td>\n",
       "      <td>0.595481</td>\n",
       "      <td>-0.226644</td>\n",
       "    </tr>\n",
       "    <tr>\n",
       "      <th>VAR224</th>\n",
       "      <td>0.550813</td>\n",
       "      <td>-0.282664</td>\n",
       "      <td>-0.502426</td>\n",
       "      <td>0.491947</td>\n",
       "      <td>-0.041771</td>\n",
       "      <td>-0.059475</td>\n",
       "      <td>-0.100285</td>\n",
       "      <td>-0.536840</td>\n",
       "      <td>0.179094</td>\n",
       "      <td>-0.074258</td>\n",
       "      <td>...</td>\n",
       "      <td>-0.426935</td>\n",
       "      <td>0.387839</td>\n",
       "      <td>0.506185</td>\n",
       "      <td>0.483680</td>\n",
       "      <td>0.411702</td>\n",
       "      <td>0.524589</td>\n",
       "      <td>1.000000</td>\n",
       "      <td>0.419642</td>\n",
       "      <td>0.270269</td>\n",
       "      <td>0.007621</td>\n",
       "    </tr>\n",
       "    <tr>\n",
       "      <th>VAR225</th>\n",
       "      <td>-0.024995</td>\n",
       "      <td>-0.451801</td>\n",
       "      <td>-0.779706</td>\n",
       "      <td>0.664555</td>\n",
       "      <td>-0.208996</td>\n",
       "      <td>-0.117839</td>\n",
       "      <td>-0.103074</td>\n",
       "      <td>-0.788530</td>\n",
       "      <td>0.335033</td>\n",
       "      <td>-0.299018</td>\n",
       "      <td>...</td>\n",
       "      <td>-0.695901</td>\n",
       "      <td>0.701578</td>\n",
       "      <td>0.742462</td>\n",
       "      <td>0.653979</td>\n",
       "      <td>0.689645</td>\n",
       "      <td>0.689995</td>\n",
       "      <td>0.419642</td>\n",
       "      <td>1.000000</td>\n",
       "      <td>0.553872</td>\n",
       "      <td>-0.171753</td>\n",
       "    </tr>\n",
       "    <tr>\n",
       "      <th>VAR226</th>\n",
       "      <td>-0.178461</td>\n",
       "      <td>-0.497987</td>\n",
       "      <td>-0.676380</td>\n",
       "      <td>0.660575</td>\n",
       "      <td>-0.668634</td>\n",
       "      <td>-0.210434</td>\n",
       "      <td>0.009782</td>\n",
       "      <td>-0.687481</td>\n",
       "      <td>0.586247</td>\n",
       "      <td>-0.578276</td>\n",
       "      <td>...</td>\n",
       "      <td>-0.858024</td>\n",
       "      <td>0.891394</td>\n",
       "      <td>0.640163</td>\n",
       "      <td>0.657191</td>\n",
       "      <td>0.849384</td>\n",
       "      <td>0.595481</td>\n",
       "      <td>0.270269</td>\n",
       "      <td>0.553872</td>\n",
       "      <td>1.000000</td>\n",
       "      <td>-0.524745</td>\n",
       "    </tr>\n",
       "    <tr>\n",
       "      <th>VAR227</th>\n",
       "      <td>0.219723</td>\n",
       "      <td>0.275413</td>\n",
       "      <td>0.260673</td>\n",
       "      <td>-0.260098</td>\n",
       "      <td>0.751368</td>\n",
       "      <td>0.213687</td>\n",
       "      <td>-0.109421</td>\n",
       "      <td>0.235274</td>\n",
       "      <td>-0.266591</td>\n",
       "      <td>0.846875</td>\n",
       "      <td>...</td>\n",
       "      <td>0.380135</td>\n",
       "      <td>-0.467128</td>\n",
       "      <td>-0.280870</td>\n",
       "      <td>-0.262267</td>\n",
       "      <td>-0.419671</td>\n",
       "      <td>-0.226644</td>\n",
       "      <td>0.007621</td>\n",
       "      <td>-0.171753</td>\n",
       "      <td>-0.524745</td>\n",
       "      <td>1.000000</td>\n",
       "    </tr>\n",
       "  </tbody>\n",
       "</table>\n",
       "<p>226 rows × 226 columns</p>\n",
       "</div>"
      ],
      "text/plain": [
       "          VAR002    VAR003    VAR004    VAR005    VAR006    VAR007    VAR008  \\\n",
       "VAR002  1.000000  0.044652  0.004806 -0.060189  0.208932  0.053711 -0.062780   \n",
       "VAR003  0.044652  1.000000  0.497817 -0.497156  0.285902  0.158203  0.156713   \n",
       "VAR004  0.004806  0.497817  1.000000 -0.790784  0.298176  0.123244  0.131683   \n",
       "VAR005 -0.060189 -0.497156 -0.790784  1.000000 -0.358032 -0.184772 -0.091354   \n",
       "VAR006  0.208932  0.285902  0.298176 -0.358032  1.000000  0.290835 -0.059105   \n",
       "...          ...       ...       ...       ...       ...       ...       ...   \n",
       "VAR223  0.030105 -0.461673 -0.786375  0.802329 -0.261564 -0.153139 -0.105344   \n",
       "VAR224  0.550813 -0.282664 -0.502426  0.491947 -0.041771 -0.059475 -0.100285   \n",
       "VAR225 -0.024995 -0.451801 -0.779706  0.664555 -0.208996 -0.117839 -0.103074   \n",
       "VAR226 -0.178461 -0.497987 -0.676380  0.660575 -0.668634 -0.210434  0.009782   \n",
       "VAR227  0.219723  0.275413  0.260673 -0.260098  0.751368  0.213687 -0.109421   \n",
       "\n",
       "          VAR009    VAR010    VAR011  ...    VAR218    VAR219    VAR220  \\\n",
       "VAR002  0.029872 -0.085507  0.200439  ...  0.084411 -0.136724 -0.004800   \n",
       "VAR003  0.533279 -0.314611  0.310501  ...  0.604738 -0.612976 -0.493747   \n",
       "VAR004  0.916816 -0.389185  0.382857  ...  0.833252 -0.822089 -0.848843   \n",
       "VAR005 -0.898056  0.416773 -0.368503  ... -0.789746  0.773611  0.799385   \n",
       "VAR006  0.323057 -0.343731  0.825295  ...  0.531624 -0.551147 -0.299156   \n",
       "...          ...       ...       ...  ...       ...       ...       ...   \n",
       "VAR223 -0.867366  0.387216 -0.326644  ... -0.732189  0.728193  0.863036   \n",
       "VAR224 -0.536840  0.179094 -0.074258  ... -0.426935  0.387839  0.506185   \n",
       "VAR225 -0.788530  0.335033 -0.299018  ... -0.695901  0.701578  0.742462   \n",
       "VAR226 -0.687481  0.586247 -0.578276  ... -0.858024  0.891394  0.640163   \n",
       "VAR227  0.235274 -0.266591  0.846875  ...  0.380135 -0.467128 -0.280870   \n",
       "\n",
       "          VAR221    VAR222    VAR223    VAR224    VAR225    VAR226    VAR227  \n",
       "VAR002 -0.058497 -0.092455  0.030105  0.550813 -0.024995 -0.178461  0.219723  \n",
       "VAR003 -0.488877 -0.627271 -0.461673 -0.282664 -0.451801 -0.497987  0.275413  \n",
       "VAR004 -0.785641 -0.798878 -0.786375 -0.502426 -0.779706 -0.676380  0.260673  \n",
       "VAR005  0.900307  0.787250  0.802329  0.491947  0.664555  0.660575 -0.260098  \n",
       "VAR006 -0.355602 -0.552869 -0.261564 -0.041771 -0.208996 -0.668634  0.751368  \n",
       "...          ...       ...       ...       ...       ...       ...       ...  \n",
       "VAR223  0.802136  0.731038  1.000000  0.524589  0.689995  0.595481 -0.226644  \n",
       "VAR224  0.483680  0.411702  0.524589  1.000000  0.419642  0.270269  0.007621  \n",
       "VAR225  0.653979  0.689645  0.689995  0.419642  1.000000  0.553872 -0.171753  \n",
       "VAR226  0.657191  0.849384  0.595481  0.270269  0.553872  1.000000 -0.524745  \n",
       "VAR227 -0.262267 -0.419671 -0.226644  0.007621 -0.171753 -0.524745  1.000000  \n",
       "\n",
       "[226 rows x 226 columns]"
      ]
     },
     "execution_count": 64,
     "metadata": {},
     "output_type": "execute_result"
    }
   ],
   "source": [
    "group0.corr(method = 'pearson')"
   ]
  },
  {
   "cell_type": "code",
   "execution_count": 65,
   "metadata": {
    "ExecuteTime": {
     "end_time": "2021-01-03T15:09:39.838228Z",
     "start_time": "2021-01-03T15:09:36.525120Z"
    }
   },
   "outputs": [
    {
     "data": {
      "image/png": "[encoded data removed]",
      "text/plain": [
       "<Figure size 432x288 with 1 Axes>"
      ]
     },
     "metadata": {
      "needs_background": "light"
     },
     "output_type": "display_data"
    },
    {
     "data": {
      "image/png": "[encoded data removed]",
      "text/plain": [
       "<Figure size 432x288 with 1 Axes>"
      ]
     },
     "metadata": {
      "needs_background": "light"
     },
     "output_type": "display_data"
    },
    {
     "data": {
      "image/png": "[encoded data removed]",
      "text/plain": [
       "<Figure size 432x288 with 1 Axes>"
      ]
     },
     "metadata": {
      "needs_background": "light"
     },
     "output_type": "display_data"
    },
    {
     "data": {
      "image/png": "[encoded data removed]",
      "text/plain": [
       "<Figure size 432x288 with 1 Axes>"
      ]
     },
     "metadata": {
      "needs_background": "light"
     },
     "output_type": "display_data"
    },
    {
     "data": {
      "image/png": "[encoded data removed]",
      "text/plain": [
       "<Figure size 432x288 with 1 Axes>"
      ]
     },
     "metadata": {
      "needs_background": "light"
     },
     "output_type": "display_data"
    },
    {
     "data": {
      "image/png": "[encoded data removed]",
      "text/plain": [
       "<Figure size 432x288 with 1 Axes>"
      ]
     },
     "metadata": {
      "needs_background": "light"
     },
     "output_type": "display_data"
    },
    {
     "data": {
      "image/png": "[encoded data removed]",
      "text/plain": [
       "<Figure size 432x288 with 1 Axes>"
      ]
     },
     "metadata": {
      "needs_background": "light"
     },
     "output_type": "display_data"
    },
    {
     "data": {
      "image/png": "[encoded data removed]",
      "text/plain": [
       "<Figure size 432x288 with 1 Axes>"
      ]
     },
     "metadata": {
      "needs_background": "light"
     },
     "output_type": "display_data"
    },
    {
     "data": {
      "image/png": "[encoded data removed]",
      "text/plain": [
       "<Figure size 432x288 with 1 Axes>"
      ]
     },
     "metadata": {
      "needs_background": "light"
     },
     "output_type": "display_data"
    },
    {
     "data": {
      "image/png": "[encoded data removed]",
      "text/plain": [
       "<Figure size 432x288 with 1 Axes>"
      ]
     },
     "metadata": {
      "needs_background": "light"
     },
     "output_type": "display_data"
    },
    {
     "data": {
      "image/png": "[encoded data removed]",
      "text/plain": [
       "<Figure size 432x288 with 1 Axes>"
      ]
     },
     "metadata": {
      "needs_background": "light"
     },
     "output_type": "display_data"
    },
    {
     "data": {
      "image/png": "[encoded data removed]",
      "text/plain": [
       "<Figure size 432x288 with 1 Axes>"
      ]
     },
     "metadata": {
      "needs_background": "light"
     },
     "output_type": "display_data"
    },
    {
     "data": {
      "image/png": "[encoded data removed]",
      "text/plain": [
       "<Figure size 432x288 with 1 Axes>"
      ]
     },
     "metadata": {
      "needs_background": "light"
     },
     "output_type": "display_data"
    },
    {
     "data": {
      "image/png": "[encoded data removed]",
      "text/plain": [
       "<Figure size 432x288 with 1 Axes>"
      ]
     },
     "metadata": {
      "needs_background": "light"
     },
     "output_type": "display_data"
    },
    {
     "data": {
      "image/png": "[encoded data removed]",
      "text/plain": [
       "<Figure size 432x288 with 1 Axes>"
      ]
     },
     "metadata": {
      "needs_background": "light"
     },
     "output_type": "display_data"
    },
    {
     "data": {
      "image/png": "[encoded data removed]",
      "text/plain": [
       "<Figure size 432x288 with 1 Axes>"
      ]
     },
     "metadata": {
      "needs_background": "light"
     },
     "output_type": "display_data"
    },
    {
     "data": {
      "image/png": "[encoded data removed]",
      "text/plain": [
       "<Figure size 432x288 with 1 Axes>"
      ]
     },
     "metadata": {
      "needs_background": "light"
     },
     "output_type": "display_data"
    },
    {
     "data": {
      "image/png": "[encoded data removed]",
      "text/plain": [
       "<Figure size 432x288 with 1 Axes>"
      ]
     },
     "metadata": {
      "needs_background": "light"
     },
     "output_type": "display_data"
    },
    {
     "data": {
      "image/png": "[encoded data removed]",
      "text/plain": [
       "<Figure size 432x288 with 1 Axes>"
      ]
     },
     "metadata": {
      "needs_background": "light"
     },
     "output_type": "display_data"
    },
    {
     "data": {
      "image/png": "[encoded data removed]",
      "text/plain": [
       "<Figure size 432x288 with 1 Axes>"
      ]
     },
     "metadata": {
      "needs_background": "light"
     },
     "output_type": "display_data"
    },
    {
     "data": {
      "image/png": "[encoded data removed]",
      "text/plain": [
       "<Figure size 432x288 with 1 Axes>"
      ]
     },
     "metadata": {
      "needs_background": "light"
     },
     "output_type": "display_data"
    },
    {
     "data": {
      "image/png": "[encoded data removed]",
      "text/plain": [
       "<Figure size 432x288 with 1 Axes>"
      ]
     },
     "metadata": {
      "needs_background": "light"
     },
     "output_type": "display_data"
    },
    {
     "data": {
      "image/png": "[encoded data removed]",
      "text/plain": [
       "<Figure size 432x288 with 1 Axes>"
      ]
     },
     "metadata": {
      "needs_background": "light"
     },
     "output_type": "display_data"
    },
    {
     "data": {
      "image/png": "[encoded data removed]",
      "text/plain": [
       "<Figure size 432x288 with 1 Axes>"
      ]
     },
     "metadata": {
      "needs_background": "light"
     },
     "output_type": "display_data"
    },
    {
     "data": {
      "image/png": "[encoded data removed]",
      "text/plain": [
       "<Figure size 432x288 with 1 Axes>"
      ]
     },
     "metadata": {
      "needs_background": "light"
     },
     "output_type": "display_data"
    },
    {
     "data": {
      "image/png": "[encoded data removed]",
      "text/plain": [
       "<Figure size 432x288 with 1 Axes>"
      ]
     },
     "metadata": {
      "needs_background": "light"
     },
     "output_type": "display_data"
    },
    {
     "data": {
      "image/png": "[encoded data removed]",
      "text/plain": [
       "<Figure size 432x288 with 1 Axes>"
      ]
     },
     "metadata": {
      "needs_background": "light"
     },
     "output_type": "display_data"
    },
    {
     "data": {
      "image/png": "[encoded data removed]",
      "text/plain": [
       "<Figure size 432x288 with 1 Axes>"
      ]
     },
     "metadata": {
      "needs_background": "light"
     },
     "output_type": "display_data"
    }
   ],
   "source": [
    "for a in categories:\n",
    "    data1[a].value_counts().plot(kind= 'bar')\n",
    "    plt.title(a)\n",
    "    plt.show()"
   ]
  },
  {
   "cell_type": "code",
   "execution_count": null,
   "metadata": {},
   "outputs": [],
   "source": []
  }
 ],
 "metadata": {
  "hide_input": false,
  "jupytext": {
   "formats": "ipynb,py:light"
  },
  "kernelspec": {
   "display_name": "Python 3",
   "language": "python",
   "name": "python3"
  },
  "language_info": {
   "codemirror_mode": {
    "name": "ipython",
    "version": 3
   },
   "file_extension": ".py",
   "mimetype": "text/x-python",
   "name": "python",
   "nbconvert_exporter": "python",
   "pygments_lexer": "ipython3",
   "version": "3.7.6"
  }
 },
 "nbformat": 4,
 "nbformat_minor": 4
}
